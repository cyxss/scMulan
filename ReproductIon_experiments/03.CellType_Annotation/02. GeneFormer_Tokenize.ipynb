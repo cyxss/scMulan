{
 "cells": [
  {
   "cell_type": "code",
   "execution_count": 1,
   "id": "c20bfdbd-2657-4cff-841b-2d55aa8c6936",
   "metadata": {
    "execution": {
     "iopub.execute_input": "2024-04-15T15:21:15.784481Z",
     "iopub.status.busy": "2024-04-15T15:21:15.782905Z",
     "iopub.status.idle": "2024-04-15T15:21:38.156264Z",
     "shell.execute_reply": "2024-04-15T15:21:38.154244Z",
     "shell.execute_reply.started": "2024-04-15T15:21:15.784405Z"
    },
    "tags": []
   },
   "outputs": [],
   "source": [
    "import scanpy as sc\n",
    "import pandas as pd\n",
    "import numpy as np"
   ]
  },
  {
   "cell_type": "code",
   "execution_count": 2,
   "id": "531f6550-118d-4e19-8f54-fc3cc7a483e2",
   "metadata": {
    "execution": {
     "iopub.execute_input": "2024-04-15T15:21:38.159796Z",
     "iopub.status.busy": "2024-04-15T15:21:38.158907Z",
     "iopub.status.idle": "2024-04-15T15:21:38.164148Z",
     "shell.execute_reply": "2024-04-15T15:21:38.163502Z",
     "shell.execute_reply.started": "2024-04-15T15:21:38.159749Z"
    },
    "tags": []
   },
   "outputs": [],
   "source": [
    "from tqdm import tqdm\n",
    "import scipy.sparse as sp"
   ]
  },
  {
   "cell_type": "markdown",
   "id": "b5acd41b",
   "metadata": {},
   "source": [
    "## Split data in hECA-10M"
   ]
  },
  {
   "cell_type": "code",
   "execution_count": null,
   "id": "6cf0d3b1",
   "metadata": {},
   "outputs": [],
   "source": [
    "adata = sc.read_h5ad(\"/nfs/public/cell_gpt_data/dataHub/datasets/datasets/ECA_GO/model_hub/eca_heart_liver_lung_blood_bm.h5ad\")"
   ]
  },
  {
   "cell_type": "code",
   "execution_count": null,
   "id": "b6f852fa",
   "metadata": {},
   "outputs": [],
   "source": [
    "# split dataset\n",
    "n_cells = adata.shape[0]\n",
    "# Get 200k cells from hECA-10M\n",
    "np.random.seed(0)\n",
    "indices = np.random.permutation(n_cells)\n",
    "adata = adata[indices[:200000]]"
   ]
  },
  {
   "cell_type": "code",
   "execution_count": null,
   "id": "0de00ec9",
   "metadata": {},
   "outputs": [],
   "source": [
    "n_cells = adata.shape[0]\n",
    "indices = np.random.permutation(n_cells)\n",
    "# Split 80% for training and 20% for validation\n",
    "n_train = int(0.8 * n_cells)\n",
    "adata_train = adata[indices[:n_train]]\n",
    "adata_test = adata[indices[n_train:]]"
   ]
  },
  {
   "cell_type": "code",
   "execution_count": null,
   "id": "f2beb65d",
   "metadata": {},
   "outputs": [
    {
     "data": {
      "text/plain": [
       "View of AnnData object with n_obs × n_vars = 160000 × 42117\n",
       "    obs: 'study_id', 'donor_gender', 'cell_type', 'organ', 'age_bin', 'donor_age', 'region', 'seq_tech'"
      ]
     },
     "metadata": {},
     "output_type": "display_data"
    }
   ],
   "source": [
    "adata_train"
   ]
  },
  {
   "cell_type": "code",
   "execution_count": null,
   "id": "3ecc6bed",
   "metadata": {},
   "outputs": [],
   "source": [
    "adata_train.write_h5ad(\"/nfs/public/cell_gpt_data/Geneformer_4_recomb/dataset/finetune/hECA-20K_train.h5ad\")"
   ]
  },
  {
   "cell_type": "code",
   "execution_count": null,
   "id": "74cf6e07",
   "metadata": {},
   "outputs": [
    {
     "data": {
      "text/plain": [
       "View of AnnData object with n_obs × n_vars = 40000 × 42117\n",
       "    obs: 'study_id', 'donor_gender', 'cell_type', 'organ', 'age_bin', 'donor_age', 'region', 'seq_tech'"
      ]
     },
     "metadata": {},
     "output_type": "display_data"
    }
   ],
   "source": [
    "adata_test"
   ]
  },
  {
   "cell_type": "code",
   "execution_count": null,
   "id": "46467e37",
   "metadata": {},
   "outputs": [],
   "source": [
    "adata_test.write_h5ad(\"/nfs/public/cell_gpt_data/Geneformer_4_recomb/dataset/finetune/hECA-20K_test.h5ad\")"
   ]
  },
  {
   "cell_type": "markdown",
   "id": "b21166ca-ba37-48e8-8974-8e1d00d6dac6",
   "metadata": {},
   "source": [
    "# Preprocessing datasets"
   ]
  },
  {
   "cell_type": "markdown",
   "id": "b7bb5474-d08f-418d-acb3-375f204c3cd1",
   "metadata": {},
   "source": [
    "## AHCA"
   ]
  },
  {
   "cell_type": "code",
   "execution_count": 3,
   "id": "10037421-7e52-4744-9f84-4be03bd923f1",
   "metadata": {
    "execution": {
     "iopub.execute_input": "2024-04-15T15:21:38.165299Z",
     "iopub.status.busy": "2024-04-15T15:21:38.165003Z",
     "iopub.status.idle": "2024-04-15T15:21:38.184639Z",
     "shell.execute_reply": "2024-04-15T15:21:38.183685Z",
     "shell.execute_reply.started": "2024-04-15T15:21:38.165268Z"
    },
    "tags": []
   },
   "outputs": [],
   "source": [
    "def preprocess_for_Geneformer(adata):\n",
    "    df_ref_gene = pd.read_table(\"./total_gene_list_42117.txt\",index_col=0)\n",
    "    adata.var['ensembl_id'] = df_ref_gene['Ensembl gene ID'] #这里直接用的是42117个基因，有需要的话需要重新弄一下\n",
    "    sc.pp.calculate_qc_metrics(adata,percent_top = None, \n",
    "                                       log1p = False, \n",
    "                                       inplace = True)\n",
    "    adata.obs['n_counts'] = adata.obs['total_counts']"
   ]
  },
  {
   "cell_type": "code",
   "execution_count": 4,
   "id": "8c820ae0-3bd9-417c-9bae-6760a6838531",
   "metadata": {
    "execution": {
     "iopub.execute_input": "2024-04-15T15:21:38.188714Z",
     "iopub.status.busy": "2024-04-15T15:21:38.187408Z",
     "iopub.status.idle": "2024-04-15T15:21:38.988206Z",
     "shell.execute_reply": "2024-04-15T15:21:38.986691Z",
     "shell.execute_reply.started": "2024-04-15T15:21:38.188621Z"
    },
    "tags": []
   },
   "outputs": [],
   "source": [
    "adata = sc.read_h5ad(\"/nfs/public/cell_gpt_data/dataHub/datasets/datasets/ECA_GO/model_hub/bone_marrow_AHCA_uniformed.h5ad\")\n",
    "preprocess_for_Geneformer(adata)"
   ]
  },
  {
   "cell_type": "code",
   "execution_count": 5,
   "id": "69300840-e161-4126-9bf4-1c9a372f7917",
   "metadata": {
    "execution": {
     "iopub.execute_input": "2024-04-15T15:21:42.221929Z",
     "iopub.status.busy": "2024-04-15T15:21:42.221154Z",
     "iopub.status.idle": "2024-04-15T15:21:42.234437Z",
     "shell.execute_reply": "2024-04-15T15:21:42.233642Z",
     "shell.execute_reply.started": "2024-04-15T15:21:42.221874Z"
    },
    "tags": []
   },
   "outputs": [
    {
     "data": {
      "text/plain": [
       "AnnData object with n_obs × n_vars = 3230 × 42117\n",
       "    obs: 'orig.ident', 'nCount_RNA', 'nFeature_RNA', 'percent.mito', 'RNA_snn_res.orig', 'seurat_clusters', 'Color_of_tissues', 'Cell_type_in_each_tissue', 'tSNE_1', 'tSNE_2', 'Cell_type_in_merged_data', 'cell_type', 'organ', 'n_genes_by_counts', 'total_counts', 'n_counts'\n",
       "    var: 'ensembl_id', 'n_cells_by_counts', 'mean_counts', 'pct_dropout_by_counts', 'total_counts'"
      ]
     },
     "execution_count": 5,
     "metadata": {},
     "output_type": "execute_result"
    }
   ],
   "source": [
    "adata"
   ]
  },
  {
   "cell_type": "code",
   "execution_count": 5,
   "id": "a44b7e8e-3060-43fd-a7a7-ed4ad2ce1116",
   "metadata": {
    "execution": {
     "iopub.execute_input": "2023-12-26T14:46:10.879060Z",
     "iopub.status.busy": "2023-12-26T14:46:10.878182Z",
     "iopub.status.idle": "2023-12-26T14:46:11.760754Z",
     "shell.execute_reply": "2023-12-26T14:46:11.759633Z",
     "shell.execute_reply.started": "2023-12-26T14:46:10.878983Z"
    },
    "tags": []
   },
   "outputs": [],
   "source": [
    "adata.write_h5ad(\"/nfs/public/cell_gpt_data/Geneformer_4_recomb/dataset/test/BoneMarrow_AHCA.h5ad\")"
   ]
  },
  {
   "cell_type": "markdown",
   "id": "4a15fcd8-9612-4937-b747-ba9083447dfc",
   "metadata": {
    "tags": []
   },
   "source": [
    "## Suo2022"
   ]
  },
  {
   "cell_type": "code",
   "execution_count": 4,
   "id": "57147088-e312-4115-803c-22646da7241d",
   "metadata": {
    "execution": {
     "iopub.execute_input": "2023-12-26T15:11:34.089617Z",
     "iopub.status.busy": "2023-12-26T15:11:34.088278Z",
     "iopub.status.idle": "2023-12-26T15:12:09.546348Z",
     "shell.execute_reply": "2023-12-26T15:12:09.544865Z",
     "shell.execute_reply.started": "2023-12-26T15:11:34.089555Z"
    },
    "tags": []
   },
   "outputs": [],
   "source": [
    "adata = sc.read_h5ad(\"/nfs/public/cell_gpt_data/Test_data/Liver/Liver_test.h5ad\")"
   ]
  },
  {
   "cell_type": "code",
   "execution_count": 5,
   "id": "86ef0020-3b48-4fac-9fd5-5c5bfa2cc0d0",
   "metadata": {
    "execution": {
     "iopub.execute_input": "2023-12-26T15:12:09.548605Z",
     "iopub.status.busy": "2023-12-26T15:12:09.548324Z",
     "iopub.status.idle": "2023-12-26T15:13:34.727496Z",
     "shell.execute_reply": "2023-12-26T15:13:34.725452Z",
     "shell.execute_reply.started": "2023-12-26T15:12:09.548578Z"
    },
    "tags": []
   },
   "outputs": [],
   "source": [
    "adata.X = np.array(adata.X.todense())"
   ]
  },
  {
   "cell_type": "code",
   "execution_count": 6,
   "id": "9ca6e672-8526-446c-9cd9-7a127628ffed",
   "metadata": {
    "execution": {
     "iopub.execute_input": "2023-12-26T15:15:40.621192Z",
     "iopub.status.busy": "2023-12-26T15:15:40.619593Z",
     "iopub.status.idle": "2023-12-26T15:15:55.070617Z",
     "shell.execute_reply": "2023-12-26T15:15:55.069144Z",
     "shell.execute_reply.started": "2023-12-26T15:15:40.621146Z"
    },
    "tags": []
   },
   "outputs": [
    {
     "name": "stderr",
     "output_type": "stream",
     "text": [
      "100%|██████████| 137181/137181 [00:14<00:00, 9505.48it/s] \n"
     ]
    }
   ],
   "source": [
    "for i in tqdm(range(adata.shape[0])):\n",
    "    adata.X[i,:] = np.exp(adata.X[i,:])-1\n",
    "adata.X = sp.csr_matrix(adata.X)"
   ]
  },
  {
   "cell_type": "code",
   "execution_count": 12,
   "id": "4f284cda-cffd-4244-8ead-76c5a49ba948",
   "metadata": {
    "execution": {
     "iopub.execute_input": "2023-12-26T15:18:42.526392Z",
     "iopub.status.busy": "2023-12-26T15:18:42.525043Z",
     "iopub.status.idle": "2023-12-26T15:18:48.680205Z",
     "shell.execute_reply": "2023-12-26T15:18:48.678493Z",
     "shell.execute_reply.started": "2023-12-26T15:18:42.526318Z"
    },
    "tags": []
   },
   "outputs": [],
   "source": [
    "preprocess_for_Geneformer(adata)"
   ]
  },
  {
   "cell_type": "code",
   "execution_count": 13,
   "id": "cbd8252e-234c-4a93-a6da-022675b032b4",
   "metadata": {
    "execution": {
     "iopub.execute_input": "2023-12-26T15:19:27.294665Z",
     "iopub.status.busy": "2023-12-26T15:19:27.293092Z",
     "iopub.status.idle": "2023-12-26T15:20:11.553497Z",
     "shell.execute_reply": "2023-12-26T15:20:11.552082Z",
     "shell.execute_reply.started": "2023-12-26T15:19:27.294587Z"
    },
    "tags": []
   },
   "outputs": [],
   "source": [
    "adata.write_h5ad(\"/nfs/public/cell_gpt_data/Geneformer_4_recomb/dataset/test/Liver_Suo2022.h5ad\")"
   ]
  },
  {
   "cell_type": "markdown",
   "id": "2c4b1063-4b91-48fa-af1d-672c318260f3",
   "metadata": {
    "tags": []
   },
   "source": [
    "## Simonson2023"
   ]
  },
  {
   "cell_type": "code",
   "execution_count": 14,
   "id": "a77a09f8-43af-471a-93d3-c7d1e950dccd",
   "metadata": {
    "execution": {
     "iopub.execute_input": "2023-12-26T15:20:43.060610Z",
     "iopub.status.busy": "2023-12-26T15:20:43.060182Z",
     "iopub.status.idle": "2023-12-26T15:20:46.994187Z",
     "shell.execute_reply": "2023-12-26T15:20:46.993443Z",
     "shell.execute_reply.started": "2023-12-26T15:20:43.060578Z"
    },
    "tags": []
   },
   "outputs": [],
   "source": [
    "adata = sc.read_h5ad(\"/nfs/public/cell_gpt_data/Test_data/Heart/Simonson.h5ad\")"
   ]
  },
  {
   "cell_type": "code",
   "execution_count": 18,
   "id": "86e8f860-bee7-4930-9303-2596d57941a4",
   "metadata": {
    "execution": {
     "iopub.execute_input": "2023-12-26T15:21:17.573639Z",
     "iopub.status.busy": "2023-12-26T15:21:17.571829Z",
     "iopub.status.idle": "2023-12-26T15:21:27.551201Z",
     "shell.execute_reply": "2023-12-26T15:21:27.549888Z",
     "shell.execute_reply.started": "2023-12-26T15:21:17.573564Z"
    },
    "tags": []
   },
   "outputs": [],
   "source": [
    "adata.X = np.array(adata.X.todense())"
   ]
  },
  {
   "cell_type": "code",
   "execution_count": 19,
   "id": "df833058-1263-47ee-9f91-7dae8797e425",
   "metadata": {
    "execution": {
     "iopub.execute_input": "2023-12-26T15:21:27.553072Z",
     "iopub.status.busy": "2023-12-26T15:21:27.552884Z",
     "iopub.status.idle": "2023-12-26T15:21:42.678780Z",
     "shell.execute_reply": "2023-12-26T15:21:42.677765Z",
     "shell.execute_reply.started": "2023-12-26T15:21:27.553055Z"
    },
    "tags": []
   },
   "outputs": [
    {
     "name": "stderr",
     "output_type": "stream",
     "text": [
      "100%|██████████| 60345/60345 [00:02<00:00, 23145.51it/s]\n"
     ]
    }
   ],
   "source": [
    "for i in tqdm(range(adata.shape[0])):\n",
    "    adata.X[i,:] = np.exp(adata.X[i,:])-1\n",
    "adata.X = sp.csr_matrix(adata.X)"
   ]
  },
  {
   "cell_type": "code",
   "execution_count": 20,
   "id": "c14a799b-685b-41cc-9737-fa0d50ba2aa7",
   "metadata": {
    "execution": {
     "iopub.execute_input": "2023-12-26T15:21:57.756779Z",
     "iopub.status.busy": "2023-12-26T15:21:57.754954Z",
     "iopub.status.idle": "2023-12-26T15:21:58.560171Z",
     "shell.execute_reply": "2023-12-26T15:21:58.559218Z",
     "shell.execute_reply.started": "2023-12-26T15:21:57.756704Z"
    },
    "tags": []
   },
   "outputs": [],
   "source": [
    "preprocess_for_Geneformer(adata)"
   ]
  },
  {
   "cell_type": "code",
   "execution_count": 21,
   "id": "c1d97192-083c-443c-ba15-d6737be03185",
   "metadata": {
    "execution": {
     "iopub.execute_input": "2023-12-26T15:21:59.269018Z",
     "iopub.status.busy": "2023-12-26T15:21:59.267580Z",
     "iopub.status.idle": "2023-12-26T15:22:03.471346Z",
     "shell.execute_reply": "2023-12-26T15:22:03.466610Z",
     "shell.execute_reply.started": "2023-12-26T15:21:59.268953Z"
    },
    "tags": []
   },
   "outputs": [],
   "source": [
    "adata.write_h5ad(\"/nfs/public/cell_gpt_data/Geneformer_4_recomb/dataset/test/Heart_Simonson2023.h5ad\")"
   ]
  },
  {
   "cell_type": "markdown",
   "id": "7d7bad6d-98f9-4c52-8e08-4d6a20b379b0",
   "metadata": {},
   "source": [
    "## Finetune train"
   ]
  },
  {
   "cell_type": "code",
   "execution_count": 22,
   "id": "43c89beb-4a8f-4887-8636-90636ad8aa31",
   "metadata": {
    "execution": {
     "iopub.execute_input": "2023-12-26T15:24:14.984267Z",
     "iopub.status.busy": "2023-12-26T15:24:14.983218Z",
     "iopub.status.idle": "2023-12-26T15:24:37.393086Z",
     "shell.execute_reply": "2023-12-26T15:24:37.391705Z",
     "shell.execute_reply.started": "2023-12-26T15:24:14.984199Z"
    },
    "tags": []
   },
   "outputs": [],
   "source": [
    "adata = sc.read_h5ad(\"/nfs/public/cell_gpt_data/Geneformer_4_recomb/dataset/finetune/hECA-20K_train.h5ad\")"
   ]
  },
  {
   "cell_type": "code",
   "execution_count": 24,
   "id": "494dbc05-4f24-43a7-8fc0-5866cb172f17",
   "metadata": {
    "execution": {
     "iopub.execute_input": "2023-12-26T15:25:00.515428Z",
     "iopub.status.busy": "2023-12-26T15:25:00.513996Z",
     "iopub.status.idle": "2023-12-26T15:27:01.061711Z",
     "shell.execute_reply": "2023-12-26T15:27:01.059069Z",
     "shell.execute_reply.started": "2023-12-26T15:25:00.515380Z"
    },
    "tags": []
   },
   "outputs": [
    {
     "name": "stderr",
     "output_type": "stream",
     "text": [
      "100%|██████████| 160000/160000 [00:13<00:00, 12243.15it/s]\n"
     ]
    }
   ],
   "source": [
    "adata.X = np.array(adata.X.todense())\n",
    "for i in tqdm(range(adata.shape[0])):\n",
    "    adata.X[i,:] = np.exp(adata.X[i,:])-1\n",
    "adata.X = sp.csr_matrix(adata.X)"
   ]
  },
  {
   "cell_type": "code",
   "execution_count": 25,
   "id": "44dab235-131e-40f9-8f09-74492252fa83",
   "metadata": {
    "execution": {
     "iopub.execute_input": "2023-12-26T15:27:01.066114Z",
     "iopub.status.busy": "2023-12-26T15:27:01.065492Z",
     "iopub.status.idle": "2023-12-26T15:27:04.136496Z",
     "shell.execute_reply": "2023-12-26T15:27:04.135687Z",
     "shell.execute_reply.started": "2023-12-26T15:27:01.066052Z"
    },
    "tags": []
   },
   "outputs": [],
   "source": [
    "preprocess_for_Geneformer(adata)"
   ]
  },
  {
   "cell_type": "code",
   "execution_count": 26,
   "id": "ac5bd9a6-36b6-4e86-ab9d-5e6b22c61705",
   "metadata": {
    "execution": {
     "iopub.execute_input": "2023-12-26T15:27:04.137490Z",
     "iopub.status.busy": "2023-12-26T15:27:04.137324Z",
     "iopub.status.idle": "2023-12-26T15:27:28.959261Z",
     "shell.execute_reply": "2023-12-26T15:27:28.957487Z",
     "shell.execute_reply.started": "2023-12-26T15:27:04.137475Z"
    },
    "tags": []
   },
   "outputs": [],
   "source": [
    "adata.write_h5ad(\"/nfs/public/cell_gpt_data/Geneformer_4_recomb/dataset/finetune/hECA-20K_train.h5ad\")"
   ]
  },
  {
   "cell_type": "markdown",
   "id": "0cd7215b-9b10-45d3-b2fd-a548a3c0958a",
   "metadata": {
    "tags": []
   },
   "source": [
    "## Finetune test"
   ]
  },
  {
   "cell_type": "code",
   "execution_count": 11,
   "id": "c3331de4-9db5-40c0-b044-85f4fbe448a2",
   "metadata": {
    "execution": {
     "iopub.execute_input": "2024-01-09T08:27:36.929492Z",
     "iopub.status.busy": "2024-01-09T08:27:36.928916Z",
     "iopub.status.idle": "2024-01-09T08:27:43.376192Z",
     "shell.execute_reply": "2024-01-09T08:27:43.374397Z",
     "shell.execute_reply.started": "2024-01-09T08:27:36.929454Z"
    },
    "tags": []
   },
   "outputs": [],
   "source": [
    "adata = sc.read_h5ad(\"/nfs/public/cell_gpt_data/Geneformer_4_recomb/dataset/finetune/test/hECA-20K_test.h5ad\")"
   ]
  },
  {
   "cell_type": "code",
   "execution_count": 12,
   "id": "a6660277-2085-4f36-91ab-9278d22222df",
   "metadata": {
    "execution": {
     "iopub.execute_input": "2024-01-09T08:27:43.863646Z",
     "iopub.status.busy": "2024-01-09T08:27:43.863072Z",
     "iopub.status.idle": "2024-01-09T08:28:12.673268Z",
     "shell.execute_reply": "2024-01-09T08:28:12.672153Z",
     "shell.execute_reply.started": "2024-01-09T08:27:43.863595Z"
    },
    "tags": []
   },
   "outputs": [
    {
     "name": "stderr",
     "output_type": "stream",
     "text": [
      "  0%|          | 0/40000 [00:00<?, ?it/s]/tmp/ipykernel_270631/2686373169.py:3: RuntimeWarning: overflow encountered in exp\n",
      "  adata.X[i,:] = np.exp(adata.X[i,:])-1\n",
      "100%|██████████| 40000/40000 [00:07<00:00, 5232.34it/s]\n"
     ]
    }
   ],
   "source": [
    "adata.X = np.array(adata.X.todense())\n",
    "for i in tqdm(range(adata.shape[0])):\n",
    "    adata.X[i,:] = np.exp(adata.X[i,:])-1\n",
    "adata.X = sp.csr_matrix(adata.X)"
   ]
  },
  {
   "cell_type": "code",
   "execution_count": 29,
   "id": "31c676a2-eb94-4cac-9437-7b66d6ee70fc",
   "metadata": {
    "execution": {
     "iopub.execute_input": "2023-12-26T15:28:38.920964Z",
     "iopub.status.busy": "2023-12-26T15:28:38.920720Z",
     "iopub.status.idle": "2023-12-26T15:28:39.662884Z",
     "shell.execute_reply": "2023-12-26T15:28:39.662010Z",
     "shell.execute_reply.started": "2023-12-26T15:28:38.920940Z"
    },
    "tags": []
   },
   "outputs": [],
   "source": [
    "preprocess_for_Geneformer(adata)"
   ]
  },
  {
   "cell_type": "code",
   "execution_count": 30,
   "id": "955f3978-d169-44eb-9b9f-7ae9e2568340",
   "metadata": {
    "execution": {
     "iopub.execute_input": "2023-12-26T15:28:39.663915Z",
     "iopub.status.busy": "2023-12-26T15:28:39.663725Z",
     "iopub.status.idle": "2023-12-26T15:28:45.973339Z",
     "shell.execute_reply": "2023-12-26T15:28:45.971904Z",
     "shell.execute_reply.started": "2023-12-26T15:28:39.663897Z"
    },
    "tags": []
   },
   "outputs": [],
   "source": [
    "adata.write_h5ad(\"/nfs/public/cell_gpt_data/Geneformer_4_recomb/dataset/finetune/hECA-20K_test.h5ad\")"
   ]
  },
  {
   "cell_type": "code",
   "execution_count": null,
   "id": "0168522f-28f6-480c-93fa-b5c8e8cb9f1e",
   "metadata": {},
   "outputs": [],
   "source": []
  },
  {
   "cell_type": "markdown",
   "id": "324b5e5d-fff5-4150-b86c-3c7d6ed2fad2",
   "metadata": {
    "execution": {
     "iopub.execute_input": "2023-12-30T06:18:07.108526Z",
     "iopub.status.busy": "2023-12-30T06:18:07.108186Z",
     "iopub.status.idle": "2023-12-30T06:18:07.111912Z",
     "shell.execute_reply": "2023-12-30T06:18:07.111378Z",
     "shell.execute_reply.started": "2023-12-30T06:18:07.108496Z"
    },
    "tags": []
   },
   "source": [
    "# Intestine"
   ]
  },
  {
   "cell_type": "code",
   "execution_count": 12,
   "id": "76141c5b-733e-4afe-b086-07950d0e5c53",
   "metadata": {
    "execution": {
     "iopub.execute_input": "2023-12-30T06:24:55.306524Z",
     "iopub.status.busy": "2023-12-30T06:24:55.306187Z",
     "iopub.status.idle": "2023-12-30T06:24:57.792356Z",
     "shell.execute_reply": "2023-12-30T06:24:57.791166Z",
     "shell.execute_reply.started": "2023-12-30T06:24:55.306496Z"
    },
    "tags": []
   },
   "outputs": [],
   "source": [
    "adata = sc.read_h5ad(\"/nfs/public/cell_gpt_data/Geneformer_4_recomb/dataset/test/Intestine/Intestine_heca1.h5ad\")"
   ]
  },
  {
   "cell_type": "code",
   "execution_count": 14,
   "id": "9580b1a9-d2cb-4395-aa1b-3e160dc84527",
   "metadata": {
    "execution": {
     "iopub.execute_input": "2023-12-30T06:25:04.216583Z",
     "iopub.status.busy": "2023-12-30T06:25:04.216265Z",
     "iopub.status.idle": "2023-12-30T06:25:04.287919Z",
     "shell.execute_reply": "2023-12-30T06:25:04.287353Z",
     "shell.execute_reply.started": "2023-12-30T06:25:04.216556Z"
    },
    "tags": []
   },
   "outputs": [
    {
     "data": {
      "text/plain": [
       "8.618953649731345"
      ]
     },
     "execution_count": 14,
     "metadata": {},
     "output_type": "execute_result"
    }
   ],
   "source": [
    "adata.X.max()"
   ]
  },
  {
   "cell_type": "code",
   "execution_count": 15,
   "id": "f1e0bd03-858e-4653-a0ae-8c1a9c3c4bdf",
   "metadata": {
    "execution": {
     "iopub.execute_input": "2023-12-30T06:25:26.426431Z",
     "iopub.status.busy": "2023-12-30T06:25:26.426096Z",
     "iopub.status.idle": "2023-12-30T06:29:46.770680Z",
     "shell.execute_reply": "2023-12-30T06:29:46.769690Z",
     "shell.execute_reply.started": "2023-12-30T06:25:26.426403Z"
    },
    "tags": []
   },
   "outputs": [
    {
     "name": "stderr",
     "output_type": "stream",
     "text": [
      "100%|██████████| 55214/55214 [00:08<00:00, 6442.01it/s]\n"
     ]
    }
   ],
   "source": [
    "adata.X = np.array(adata.X.todense())\n",
    "for i in tqdm(range(adata.shape[0])):\n",
    "    adata.X[i,:] = np.exp(adata.X[i,:])-1\n",
    "adata.X = sp.csr_matrix(adata.X)"
   ]
  },
  {
   "cell_type": "code",
   "execution_count": 18,
   "id": "d77667d3-49e2-4eca-af58-19068aa56a32",
   "metadata": {
    "execution": {
     "iopub.execute_input": "2023-12-30T08:34:05.129676Z",
     "iopub.status.busy": "2023-12-30T08:34:05.128878Z",
     "iopub.status.idle": "2023-12-30T08:34:05.700117Z",
     "shell.execute_reply": "2023-12-30T08:34:05.699225Z",
     "shell.execute_reply.started": "2023-12-30T08:34:05.129644Z"
    },
    "tags": []
   },
   "outputs": [],
   "source": [
    "preprocess_for_Geneformer(adata)"
   ]
  },
  {
   "cell_type": "code",
   "execution_count": 34,
   "id": "e5eaf7a1-14c5-4d59-9009-cd8412a9e64d",
   "metadata": {
    "execution": {
     "iopub.execute_input": "2023-12-30T08:39:36.245458Z",
     "iopub.status.busy": "2023-12-30T08:39:36.245069Z",
     "iopub.status.idle": "2023-12-30T08:39:36.314614Z",
     "shell.execute_reply": "2023-12-30T08:39:36.313955Z",
     "shell.execute_reply.started": "2023-12-30T08:39:36.245429Z"
    },
    "tags": []
   },
   "outputs": [],
   "source": [
    "adata = adata[adata.obs.cell_type!=\"Unclassified\"]"
   ]
  },
  {
   "cell_type": "code",
   "execution_count": 38,
   "id": "2e915835-88c6-4f51-9cb7-f9d9c818ee71",
   "metadata": {
    "execution": {
     "iopub.execute_input": "2023-12-30T08:40:30.538182Z",
     "iopub.status.busy": "2023-12-30T08:40:30.537775Z",
     "iopub.status.idle": "2023-12-30T08:40:31.432758Z",
     "shell.execute_reply": "2023-12-30T08:40:31.432072Z",
     "shell.execute_reply.started": "2023-12-30T08:40:30.538153Z"
    },
    "tags": []
   },
   "outputs": [
    {
     "name": "stderr",
     "output_type": "stream",
     "text": [
      "/tmp/ipykernel_1053863/2015012698.py:2: ImplicitModificationWarning: Trying to modify attribute `.obs` of view, initializing view as actual.\n",
      "  adata.obs['train_test'] = adata2k.obs.train_test[adata.obs.index]\n"
     ]
    },
    {
     "data": {
      "text/plain": [
       "train_test\n",
       "True     43929\n",
       "False    10983\n",
       "Name: count, dtype: int64"
      ]
     },
     "execution_count": 38,
     "metadata": {},
     "output_type": "execute_result"
    }
   ],
   "source": [
    "adata2k = sc.read_h5ad(\"/nfs/public/cell_gpt_data/Intestine_heca1_2000.h5ad\")\n",
    "adata.obs['train_test'] = adata2k.obs.train_test[adata.obs.index]\n",
    "adata.obs.train_test.value_counts()"
   ]
  },
  {
   "cell_type": "code",
   "execution_count": 39,
   "id": "cb98f33f-1049-4e97-8d99-5ae0503e3be4",
   "metadata": {
    "execution": {
     "iopub.execute_input": "2023-12-30T08:40:32.809185Z",
     "iopub.status.busy": "2023-12-30T08:40:32.808764Z",
     "iopub.status.idle": "2023-12-30T08:40:33.190559Z",
     "shell.execute_reply": "2023-12-30T08:40:33.189931Z",
     "shell.execute_reply.started": "2023-12-30T08:40:32.809156Z"
    },
    "tags": []
   },
   "outputs": [],
   "source": [
    "adata_train = adata[adata.obs.train_test == True].copy()\n",
    "adata_test = adata[adata.obs.train_test == False].copy()"
   ]
  },
  {
   "cell_type": "code",
   "execution_count": 46,
   "id": "02bd9811-6ff4-4371-973e-3b123e2190cb",
   "metadata": {
    "execution": {
     "iopub.execute_input": "2023-12-30T08:42:10.767642Z",
     "iopub.status.busy": "2023-12-30T08:42:10.767207Z",
     "iopub.status.idle": "2023-12-30T08:42:14.305232Z",
     "shell.execute_reply": "2023-12-30T08:42:14.303467Z",
     "shell.execute_reply.started": "2023-12-30T08:42:10.767612Z"
    },
    "tags": []
   },
   "outputs": [],
   "source": [
    "adata_train.write_h5ad(\"/nfs/public/cell_gpt_data/Geneformer_4_recomb/dataset/test/Intestine/Finetune/finetune.h5ad\")\n",
    "adata_test.write_h5ad(\"/nfs/public/cell_gpt_data/Geneformer_4_recomb/dataset/test/Intestine/Test/test.h5ad\")"
   ]
  },
  {
   "cell_type": "markdown",
   "id": "320ee47b-0b5e-44ee-b43e-2448b2c41ab9",
   "metadata": {
    "tags": []
   },
   "source": [
    "# Tokenizing dataset"
   ]
  },
  {
   "cell_type": "code",
   "execution_count": 47,
   "id": "13fc0a24-1c46-4785-be46-32039bbfc257",
   "metadata": {
    "execution": {
     "iopub.execute_input": "2023-12-30T08:42:20.413659Z",
     "iopub.status.busy": "2023-12-30T08:42:20.413197Z",
     "iopub.status.idle": "2023-12-30T08:42:24.181825Z",
     "shell.execute_reply": "2023-12-30T08:42:24.181038Z",
     "shell.execute_reply.started": "2023-12-30T08:42:20.413630Z"
    },
    "tags": []
   },
   "outputs": [
    {
     "name": "stderr",
     "output_type": "stream",
     "text": [
      "/data1/chenyx/anaconda3/envs/Geneformer/lib/python3.9/site-packages/loompy/bus_file.py:68: NumbaDeprecationWarning: The 'nopython' keyword argument was not supplied to the 'numba.jit' decorator. The implicit default value for this argument is currently False, but it will be changed to True in Numba 0.59.0. See https://numba.readthedocs.io/en/stable/reference/deprecation.html#deprecation-of-object-mode-fall-back-behaviour-when-using-jit for details.\n",
      "  def twobit_to_dna(twobit: int, size: int) -> str:\n",
      "/data1/chenyx/anaconda3/envs/Geneformer/lib/python3.9/site-packages/loompy/bus_file.py:85: NumbaDeprecationWarning: The 'nopython' keyword argument was not supplied to the 'numba.jit' decorator. The implicit default value for this argument is currently False, but it will be changed to True in Numba 0.59.0. See https://numba.readthedocs.io/en/stable/reference/deprecation.html#deprecation-of-object-mode-fall-back-behaviour-when-using-jit for details.\n",
      "  def dna_to_twobit(dna: str) -> int:\n",
      "/data1/chenyx/anaconda3/envs/Geneformer/lib/python3.9/site-packages/loompy/bus_file.py:102: NumbaDeprecationWarning: The 'nopython' keyword argument was not supplied to the 'numba.jit' decorator. The implicit default value for this argument is currently False, but it will be changed to True in Numba 0.59.0. See https://numba.readthedocs.io/en/stable/reference/deprecation.html#deprecation-of-object-mode-fall-back-behaviour-when-using-jit for details.\n",
      "  def twobit_1hamming(twobit: int, size: int) -> List[int]:\n",
      "/data1/chenyx/anaconda3/envs/Geneformer/lib/python3.9/site-packages/tqdm/auto.py:21: TqdmWarning: IProgress not found. Please update jupyter and ipywidgets. See https://ipywidgets.readthedocs.io/en/stable/user_install.html\n",
      "  from .autonotebook import tqdm as notebook_tqdm\n"
     ]
    }
   ],
   "source": [
    "from geneformer import TranscriptomeTokenizer"
   ]
  },
  {
   "cell_type": "code",
   "execution_count": 33,
   "id": "e38947da-ec6f-4b89-b7ba-519ce94affe2",
   "metadata": {
    "collapsed": true,
    "execution": {
     "iopub.execute_input": "2023-12-26T15:32:24.207920Z",
     "iopub.status.busy": "2023-12-26T15:32:24.206107Z",
     "iopub.status.idle": "2023-12-26T15:32:29.244007Z",
     "shell.execute_reply": "2023-12-26T15:32:29.242576Z",
     "shell.execute_reply.started": "2023-12-26T15:32:24.207847Z"
    },
    "jupyter": {
     "outputs_hidden": true
    },
    "tags": []
   },
   "outputs": [
    {
     "name": "stdout",
     "output_type": "stream",
     "text": [
      "Tokenizing /nfs/public/cell_gpt_data/Geneformer_4_recomb/dataset/test/BoneMarrow/BoneMarrow_AHCA.h5ad\n"
     ]
    },
    {
     "name": "stderr",
     "output_type": "stream",
     "text": [
      "/data1/chenyx/anaconda3/envs/Geneformer/lib/python3.9/site-packages/anndata/__init__.py:51: FutureWarning: `anndata.read` is deprecated, use `anndata.read_h5ad` instead. `ad.read` will be removed in mid 2024.\n",
      "  warnings.warn(\n",
      "/data1/chenyx/anaconda3/envs/Geneformer/lib/python3.9/site-packages/geneformer/tokenizer.py:194: FutureWarning: Series.__getitem__ treating keys as positions is deprecated. In a future version, integer keys will always be treated as labels (consistent with DataFrame behavior). To access a value by position, use `ser.iloc[pos]`\n",
      "  for i in adata.var[\"ensembl_id\"][coding_miRNA_loc]\n",
      "/data1/chenyx/anaconda3/envs/Geneformer/lib/python3.9/site-packages/geneformer/tokenizer.py:197: FutureWarning: Series.__getitem__ treating keys as positions is deprecated. In a future version, integer keys will always be treated as labels (consistent with DataFrame behavior). To access a value by position, use `ser.iloc[pos]`\n",
      "  coding_miRNA_ids = adata.var[\"ensembl_id\"][coding_miRNA_loc]\n"
     ]
    },
    {
     "name": "stdout",
     "output_type": "stream",
     "text": [
      "/nfs/public/cell_gpt_data/Geneformer_4_recomb/dataset/test/BoneMarrow/BoneMarrow_AHCA.h5ad has no column attribute 'filter_pass'; tokenizing all cells.\n",
      "Creating dataset.\n"
     ]
    },
    {
     "name": "stderr",
     "output_type": "stream",
     "text": [
      "Map (num_proc=32): 100%|██████████| 3230/3230 [00:02<00:00, 1477.69 examples/s]\n",
      "Saving the dataset (1/1 shards): 100%|██████████| 3230/3230 [00:00<00:00, 39111.51 examples/s]\n"
     ]
    }
   ],
   "source": [
    "tk = TranscriptomeTokenizer({\"cell_type\": \"cell_type\", \"organ\": \"organ\"}, nproc=32)\n",
    "tk.tokenize_data(\"/nfs/public/cell_gpt_data/Geneformer_4_recomb/dataset/test/BoneMarrow\", \n",
    "                 \"/nfs/public/cell_gpt_data/Geneformer_4_recomb/dataset/tokenized\", \n",
    "                 \"BoneMarrow_AHCA\", \n",
    "                 file_format=\"h5ad\")"
   ]
  },
  {
   "cell_type": "code",
   "execution_count": 34,
   "id": "9aa03272-d810-4c44-b72e-bb40586a09ca",
   "metadata": {
    "execution": {
     "iopub.execute_input": "2023-12-26T15:33:08.398415Z",
     "iopub.status.busy": "2023-12-26T15:33:08.396651Z",
     "iopub.status.idle": "2023-12-26T15:34:17.752934Z",
     "shell.execute_reply": "2023-12-26T15:34:17.751606Z",
     "shell.execute_reply.started": "2023-12-26T15:33:08.398319Z"
    },
    "tags": []
   },
   "outputs": [
    {
     "name": "stdout",
     "output_type": "stream",
     "text": [
      "Tokenizing /nfs/public/cell_gpt_data/Geneformer_4_recomb/dataset/test/Heart/Heart_Simonson2023.h5ad\n"
     ]
    },
    {
     "name": "stderr",
     "output_type": "stream",
     "text": [
      "/data1/chenyx/anaconda3/envs/Geneformer/lib/python3.9/site-packages/anndata/__init__.py:51: FutureWarning: `anndata.read` is deprecated, use `anndata.read_h5ad` instead. `ad.read` will be removed in mid 2024.\n",
      "  warnings.warn(\n",
      "/data1/chenyx/anaconda3/envs/Geneformer/lib/python3.9/site-packages/geneformer/tokenizer.py:194: FutureWarning: Series.__getitem__ treating keys as positions is deprecated. In a future version, integer keys will always be treated as labels (consistent with DataFrame behavior). To access a value by position, use `ser.iloc[pos]`\n",
      "  for i in adata.var[\"ensembl_id\"][coding_miRNA_loc]\n",
      "/data1/chenyx/anaconda3/envs/Geneformer/lib/python3.9/site-packages/geneformer/tokenizer.py:197: FutureWarning: Series.__getitem__ treating keys as positions is deprecated. In a future version, integer keys will always be treated as labels (consistent with DataFrame behavior). To access a value by position, use `ser.iloc[pos]`\n",
      "  coding_miRNA_ids = adata.var[\"ensembl_id\"][coding_miRNA_loc]\n"
     ]
    },
    {
     "name": "stdout",
     "output_type": "stream",
     "text": [
      "/nfs/public/cell_gpt_data/Geneformer_4_recomb/dataset/test/Heart/Heart_Simonson2023.h5ad has no column attribute 'filter_pass'; tokenizing all cells.\n",
      "Creating dataset.\n"
     ]
    },
    {
     "name": "stderr",
     "output_type": "stream",
     "text": [
      "Map (num_proc=32): 100%|██████████| 60345/60345 [00:23<00:00, 2578.08 examples/s]\n",
      "Saving the dataset (1/1 shards): 100%|██████████| 60345/60345 [00:00<00:00, 61776.86 examples/s] \n"
     ]
    }
   ],
   "source": [
    "tk = TranscriptomeTokenizer({\"cell_type\": \"cell_type\", \"organ\": \"organ\"}, nproc=32)\n",
    "tk.tokenize_data(\"/nfs/public/cell_gpt_data/Geneformer_4_recomb/dataset/test/Heart/\", \n",
    "                 \"/nfs/public/cell_gpt_data/Geneformer_4_recomb/dataset/tokenized\", \n",
    "                 \"Heart_Simonson2023\", \n",
    "                 file_format=\"h5ad\")"
   ]
  },
  {
   "cell_type": "code",
   "execution_count": 35,
   "id": "14c488cd-58c1-4d56-8bfe-09c5bffa8564",
   "metadata": {
    "execution": {
     "iopub.execute_input": "2023-12-26T15:34:40.904060Z",
     "iopub.status.busy": "2023-12-26T15:34:40.903286Z",
     "iopub.status.idle": "2023-12-26T15:48:40.358897Z",
     "shell.execute_reply": "2023-12-26T15:48:40.357538Z",
     "shell.execute_reply.started": "2023-12-26T15:34:40.903993Z"
    },
    "tags": []
   },
   "outputs": [
    {
     "name": "stdout",
     "output_type": "stream",
     "text": [
      "Tokenizing /nfs/public/cell_gpt_data/Geneformer_4_recomb/dataset/test/Liver/Liver_Suo2022.h5ad\n"
     ]
    },
    {
     "name": "stderr",
     "output_type": "stream",
     "text": [
      "/data1/chenyx/anaconda3/envs/Geneformer/lib/python3.9/site-packages/anndata/__init__.py:51: FutureWarning: `anndata.read` is deprecated, use `anndata.read_h5ad` instead. `ad.read` will be removed in mid 2024.\n",
      "  warnings.warn(\n",
      "/data1/chenyx/anaconda3/envs/Geneformer/lib/python3.9/site-packages/geneformer/tokenizer.py:194: FutureWarning: Series.__getitem__ treating keys as positions is deprecated. In a future version, integer keys will always be treated as labels (consistent with DataFrame behavior). To access a value by position, use `ser.iloc[pos]`\n",
      "  for i in adata.var[\"ensembl_id\"][coding_miRNA_loc]\n",
      "/data1/chenyx/anaconda3/envs/Geneformer/lib/python3.9/site-packages/geneformer/tokenizer.py:197: FutureWarning: Series.__getitem__ treating keys as positions is deprecated. In a future version, integer keys will always be treated as labels (consistent with DataFrame behavior). To access a value by position, use `ser.iloc[pos]`\n",
      "  coding_miRNA_ids = adata.var[\"ensembl_id\"][coding_miRNA_loc]\n"
     ]
    },
    {
     "name": "stdout",
     "output_type": "stream",
     "text": [
      "/nfs/public/cell_gpt_data/Geneformer_4_recomb/dataset/test/Liver/Liver_Suo2022.h5ad has no column attribute 'filter_pass'; tokenizing all cells.\n",
      "Creating dataset.\n"
     ]
    },
    {
     "name": "stderr",
     "output_type": "stream",
     "text": [
      "Map (num_proc=32): 100%|██████████| 137181/137181 [02:30<00:00, 912.78 examples/s] \n",
      "Saving the dataset (1/1 shards): 100%|██████████| 137181/137181 [00:04<00:00, 28472.05 examples/s] \n"
     ]
    }
   ],
   "source": [
    "tk = TranscriptomeTokenizer({\"cell_type\": \"cell_type\", \"organ\": \"organ\"}, nproc=32)\n",
    "tk.tokenize_data(\"/nfs/public/cell_gpt_data/Geneformer_4_recomb/dataset/test/Liver/\", \n",
    "                 \"/nfs/public/cell_gpt_data/Geneformer_4_recomb/dataset/tokenized\", \n",
    "                 \"Liver_Suo2022\", \n",
    "                 file_format=\"h5ad\")"
   ]
  },
  {
   "cell_type": "code",
   "execution_count": 36,
   "id": "c73f8b5d-3c7a-4f7d-bbe7-345f41e6b4fb",
   "metadata": {
    "execution": {
     "iopub.execute_input": "2023-12-26T15:48:40.362363Z",
     "iopub.status.busy": "2023-12-26T15:48:40.362116Z",
     "iopub.status.idle": "2023-12-26T15:49:58.229015Z",
     "shell.execute_reply": "2023-12-26T15:49:58.228236Z",
     "shell.execute_reply.started": "2023-12-26T15:48:40.362337Z"
    },
    "tags": []
   },
   "outputs": [
    {
     "name": "stdout",
     "output_type": "stream",
     "text": [
      "Tokenizing /nfs/public/cell_gpt_data/Geneformer_4_recomb/dataset/finetune/test/hECA-20K_test.h5ad\n"
     ]
    },
    {
     "name": "stderr",
     "output_type": "stream",
     "text": [
      "/data1/chenyx/anaconda3/envs/Geneformer/lib/python3.9/site-packages/anndata/__init__.py:51: FutureWarning: `anndata.read` is deprecated, use `anndata.read_h5ad` instead. `ad.read` will be removed in mid 2024.\n",
      "  warnings.warn(\n",
      "/data1/chenyx/anaconda3/envs/Geneformer/lib/python3.9/site-packages/geneformer/tokenizer.py:194: FutureWarning: Series.__getitem__ treating keys as positions is deprecated. In a future version, integer keys will always be treated as labels (consistent with DataFrame behavior). To access a value by position, use `ser.iloc[pos]`\n",
      "  for i in adata.var[\"ensembl_id\"][coding_miRNA_loc]\n",
      "/data1/chenyx/anaconda3/envs/Geneformer/lib/python3.9/site-packages/geneformer/tokenizer.py:197: FutureWarning: Series.__getitem__ treating keys as positions is deprecated. In a future version, integer keys will always be treated as labels (consistent with DataFrame behavior). To access a value by position, use `ser.iloc[pos]`\n",
      "  coding_miRNA_ids = adata.var[\"ensembl_id\"][coding_miRNA_loc]\n"
     ]
    },
    {
     "name": "stdout",
     "output_type": "stream",
     "text": [
      "/nfs/public/cell_gpt_data/Geneformer_4_recomb/dataset/finetune/test/hECA-20K_test.h5ad has no column attribute 'filter_pass'; tokenizing all cells.\n",
      "Creating dataset.\n"
     ]
    },
    {
     "name": "stderr",
     "output_type": "stream",
     "text": [
      "Map (num_proc=32): 100%|██████████| 40000/40000 [00:33<00:00, 1191.63 examples/s]\n",
      "Saving the dataset (1/1 shards): 100%|██████████| 40000/40000 [00:00<00:00, 43700.87 examples/s] \n"
     ]
    }
   ],
   "source": [
    "tk = TranscriptomeTokenizer({\"cell_type\": \"cell_type\", \"organ\": \"organ\"}, nproc=32)\n",
    "tk.tokenize_data(\"/nfs/public/cell_gpt_data/Geneformer_4_recomb/dataset/finetune/test/\", \n",
    "                 \"/nfs/public/cell_gpt_data/Geneformer_4_recomb/dataset/tokenized\", \n",
    "                 \"MultiOrgan_finetune_test\", \n",
    "                 file_format=\"h5ad\")"
   ]
  },
  {
   "cell_type": "code",
   "execution_count": 37,
   "id": "1e00d418-3913-483e-95d4-f64e625ceae7",
   "metadata": {
    "execution": {
     "iopub.execute_input": "2023-12-26T15:49:58.233574Z",
     "iopub.status.busy": "2023-12-26T15:49:58.233325Z",
     "iopub.status.idle": "2023-12-26T16:00:31.898057Z",
     "shell.execute_reply": "2023-12-26T16:00:31.897024Z",
     "shell.execute_reply.started": "2023-12-26T15:49:58.233549Z"
    },
    "tags": []
   },
   "outputs": [
    {
     "name": "stderr",
     "output_type": "stream",
     "text": [
      "/data1/chenyx/anaconda3/envs/Geneformer/lib/python3.9/site-packages/anndata/__init__.py:51: FutureWarning: `anndata.read` is deprecated, use `anndata.read_h5ad` instead. `ad.read` will be removed in mid 2024.\n",
      "  warnings.warn(\n"
     ]
    },
    {
     "name": "stdout",
     "output_type": "stream",
     "text": [
      "Tokenizing /nfs/public/cell_gpt_data/Geneformer_4_recomb/dataset/finetune/train/hECA-20K_train.h5ad\n"
     ]
    },
    {
     "name": "stderr",
     "output_type": "stream",
     "text": [
      "/data1/chenyx/anaconda3/envs/Geneformer/lib/python3.9/site-packages/geneformer/tokenizer.py:194: FutureWarning: Series.__getitem__ treating keys as positions is deprecated. In a future version, integer keys will always be treated as labels (consistent with DataFrame behavior). To access a value by position, use `ser.iloc[pos]`\n",
      "  for i in adata.var[\"ensembl_id\"][coding_miRNA_loc]\n",
      "/data1/chenyx/anaconda3/envs/Geneformer/lib/python3.9/site-packages/geneformer/tokenizer.py:197: FutureWarning: Series.__getitem__ treating keys as positions is deprecated. In a future version, integer keys will always be treated as labels (consistent with DataFrame behavior). To access a value by position, use `ser.iloc[pos]`\n",
      "  coding_miRNA_ids = adata.var[\"ensembl_id\"][coding_miRNA_loc]\n"
     ]
    },
    {
     "name": "stdout",
     "output_type": "stream",
     "text": [
      "/nfs/public/cell_gpt_data/Geneformer_4_recomb/dataset/finetune/train/hECA-20K_train.h5ad has no column attribute 'filter_pass'; tokenizing all cells.\n",
      "Creating dataset.\n"
     ]
    },
    {
     "name": "stderr",
     "output_type": "stream",
     "text": [
      "Map (num_proc=32): 100%|██████████| 160000/160000 [01:41<00:00, 1569.00 examples/s]\n",
      "Saving the dataset (1/1 shards): 100%|██████████| 160000/160000 [00:03<00:00, 44773.74 examples/s] \n"
     ]
    }
   ],
   "source": [
    "tk = TranscriptomeTokenizer({\"cell_type\": \"cell_type\", \"organ\": \"organ\"}, nproc=32)\n",
    "tk.tokenize_data(\"/nfs/public/cell_gpt_data/Geneformer_4_recomb/dataset/finetune/train/\", \n",
    "                 \"/nfs/public/cell_gpt_data/Geneformer_4_recomb/dataset/tokenized\", \n",
    "                 \"MultiOrgan_finetune_train\", \n",
    "                 file_format=\"h5ad\")"
   ]
  },
  {
   "cell_type": "code",
   "execution_count": 48,
   "id": "d54cb775-75d4-4b14-9611-53c40502ea2b",
   "metadata": {
    "execution": {
     "iopub.execute_input": "2023-12-30T08:43:08.741940Z",
     "iopub.status.busy": "2023-12-30T08:43:08.741607Z",
     "iopub.status.idle": "2023-12-30T08:43:57.085000Z",
     "shell.execute_reply": "2023-12-30T08:43:57.084111Z",
     "shell.execute_reply.started": "2023-12-30T08:43:08.741914Z"
    },
    "tags": []
   },
   "outputs": [
    {
     "name": "stdout",
     "output_type": "stream",
     "text": [
      "Tokenizing /nfs/public/cell_gpt_data/Geneformer_4_recomb/dataset/test/Intestine/Finetune/finetune.h5ad\n"
     ]
    },
    {
     "name": "stderr",
     "output_type": "stream",
     "text": [
      "/data1/chenyx/anaconda3/envs/Geneformer/lib/python3.9/site-packages/anndata/__init__.py:51: FutureWarning: `anndata.read` is deprecated, use `anndata.read_h5ad` instead. `ad.read` will be removed in mid 2024.\n",
      "  warnings.warn(\n",
      "/data1/chenyx/anaconda3/envs/Geneformer/lib/python3.9/site-packages/geneformer/tokenizer.py:194: FutureWarning: Series.__getitem__ treating keys as positions is deprecated. In a future version, integer keys will always be treated as labels (consistent with DataFrame behavior). To access a value by position, use `ser.iloc[pos]`\n",
      "  for i in adata.var[\"ensembl_id\"][coding_miRNA_loc]\n",
      "/data1/chenyx/anaconda3/envs/Geneformer/lib/python3.9/site-packages/geneformer/tokenizer.py:197: FutureWarning: Series.__getitem__ treating keys as positions is deprecated. In a future version, integer keys will always be treated as labels (consistent with DataFrame behavior). To access a value by position, use `ser.iloc[pos]`\n",
      "  coding_miRNA_ids = adata.var[\"ensembl_id\"][coding_miRNA_loc]\n"
     ]
    },
    {
     "name": "stdout",
     "output_type": "stream",
     "text": [
      "/nfs/public/cell_gpt_data/Geneformer_4_recomb/dataset/test/Intestine/Finetune/finetune.h5ad has no column attribute 'filter_pass'; tokenizing all cells.\n",
      "Creating dataset.\n"
     ]
    },
    {
     "name": "stderr",
     "output_type": "stream",
     "text": [
      "Map (num_proc=32): 100%|██████████| 43929/43929 [00:11<00:00, 3889.04 examples/s]\n",
      "Saving the dataset (1/1 shards): 100%|██████████| 43929/43929 [00:06<00:00, 6968.45 examples/s]  \n"
     ]
    }
   ],
   "source": [
    "tk = TranscriptomeTokenizer({\"cell_type\": \"cell_type\"}, nproc=32)\n",
    "tk.tokenize_data(\"/nfs/public/cell_gpt_data/Geneformer_4_recomb/dataset/test/Intestine/Finetune/\", \n",
    "                 \"/nfs/public/cell_gpt_data/Geneformer_4_recomb/dataset/tokenized\", \n",
    "                 \"Intestine_Finetune\", \n",
    "                 file_format=\"h5ad\")"
   ]
  },
  {
   "cell_type": "code",
   "execution_count": 49,
   "id": "3d49aed3-08ca-414b-9673-b2e13d25afaa",
   "metadata": {
    "execution": {
     "iopub.execute_input": "2023-12-30T08:43:57.087919Z",
     "iopub.status.busy": "2023-12-30T08:43:57.087306Z",
     "iopub.status.idle": "2023-12-30T08:44:05.718193Z",
     "shell.execute_reply": "2023-12-30T08:44:05.717473Z",
     "shell.execute_reply.started": "2023-12-30T08:43:57.087885Z"
    },
    "tags": []
   },
   "outputs": [
    {
     "name": "stdout",
     "output_type": "stream",
     "text": [
      "Tokenizing /nfs/public/cell_gpt_data/Geneformer_4_recomb/dataset/test/Intestine/Test/test.h5ad\n"
     ]
    },
    {
     "name": "stderr",
     "output_type": "stream",
     "text": [
      "/data1/chenyx/anaconda3/envs/Geneformer/lib/python3.9/site-packages/anndata/__init__.py:51: FutureWarning: `anndata.read` is deprecated, use `anndata.read_h5ad` instead. `ad.read` will be removed in mid 2024.\n",
      "  warnings.warn(\n",
      "/data1/chenyx/anaconda3/envs/Geneformer/lib/python3.9/site-packages/geneformer/tokenizer.py:194: FutureWarning: Series.__getitem__ treating keys as positions is deprecated. In a future version, integer keys will always be treated as labels (consistent with DataFrame behavior). To access a value by position, use `ser.iloc[pos]`\n",
      "  for i in adata.var[\"ensembl_id\"][coding_miRNA_loc]\n",
      "/data1/chenyx/anaconda3/envs/Geneformer/lib/python3.9/site-packages/geneformer/tokenizer.py:197: FutureWarning: Series.__getitem__ treating keys as positions is deprecated. In a future version, integer keys will always be treated as labels (consistent with DataFrame behavior). To access a value by position, use `ser.iloc[pos]`\n",
      "  coding_miRNA_ids = adata.var[\"ensembl_id\"][coding_miRNA_loc]\n"
     ]
    },
    {
     "name": "stdout",
     "output_type": "stream",
     "text": [
      "/nfs/public/cell_gpt_data/Geneformer_4_recomb/dataset/test/Intestine/Test/test.h5ad has no column attribute 'filter_pass'; tokenizing all cells.\n",
      "Creating dataset.\n"
     ]
    },
    {
     "name": "stderr",
     "output_type": "stream",
     "text": [
      "Map (num_proc=32): 100%|██████████| 10983/10983 [00:02<00:00, 4601.36 examples/s]\n",
      "Saving the dataset (1/1 shards): 100%|██████████| 10983/10983 [00:00<00:00, 126961.75 examples/s]\n"
     ]
    }
   ],
   "source": [
    "tk = TranscriptomeTokenizer({\"cell_type\": \"cell_type\"}, nproc=32)\n",
    "tk.tokenize_data(\"/nfs/public/cell_gpt_data/Geneformer_4_recomb/dataset/test/Intestine/Test/\", \n",
    "                 \"/nfs/public/cell_gpt_data/Geneformer_4_recomb/dataset/tokenized\", \n",
    "                 \"Intestine_Test\", \n",
    "                 file_format=\"h5ad\")"
   ]
  }
 ],
 "metadata": {
  "kernelspec": {
   "display_name": "Geneformer",
   "language": "python",
   "name": "geneformer"
  },
  "language_info": {
   "codemirror_mode": {
    "name": "ipython",
    "version": 3
   },
   "file_extension": ".py",
   "mimetype": "text/x-python",
   "name": "python",
   "nbconvert_exporter": "python",
   "pygments_lexer": "ipython3",
   "version": "3.9.18"
  }
 },
 "nbformat": 4,
 "nbformat_minor": 5
}
