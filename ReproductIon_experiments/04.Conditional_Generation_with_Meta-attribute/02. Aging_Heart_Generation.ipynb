{
 "cells": [
  {
   "cell_type": "markdown",
   "id": "6aae6fb7-4e79-4299-9e53-75ce0bf5bf7c",
   "metadata": {},
   "source": [
    "## import"
   ]
  },
  {
   "cell_type": "code",
   "execution_count": 2,
   "id": "b6fd18e1-4c62-4652-a6ee-54d2f7b530ef",
   "metadata": {
    "tags": []
   },
   "outputs": [],
   "source": [
    "import os\n",
    "os.environ[\"CUDA_DEVICE_ORDER\"] = \"PCI_BUS_ID\"\n",
    "os.environ[\"CUDA_VISIBLE_DEVICES\"] = \"2\""
   ]
  },
  {
   "cell_type": "code",
   "execution_count": 3,
   "id": "98401193-d56d-4f00-aa09-9a995002be1c",
   "metadata": {
    "tags": []
   },
   "outputs": [],
   "source": [
    "import torch\n",
    "import os\n",
    "from collections import Counter\n",
    "import sklearn\n",
    "import psutil\n",
    "import numpy as np\n",
    "import time\n",
    "from loguru import logger\n",
    "\n",
    "import pandas as pd\n",
    "# import scanpy as sc\n",
    "from tqdm import tqdm\n",
    "import random\n",
    "import sys\n",
    "import multiprocessing\n",
    "import anndata as ad\n",
    "import gc\n",
    "import pickle\n",
    "# from torch.nn.utils.rnn import pad_sequence\n",
    "\n",
    "root_path = os.path.abspath('/home/chenyx/scMulan/cellgpt_v1/')\n",
    "sys.path.append(os.path.abspath(root_path))\n",
    "\n",
    "# from imp import reload\n",
    "# reload(hf_tokenizer) # also reload(mymodule)\n",
    "\n",
    "# from utils.hf_tokenizer import cellGenesisTokenizer\n",
    "\n",
    "data_root_path = '/home/bianhaiyang/tmp_dataHub/datasets/'\n",
    "dataset = 'ECA_GO'\n",
    "dataPath = os.path.join(data_root_path,dataset)\n",
    "assert os.path.exists(dataPath)\n",
    "tmp_dataPath = os.path.join(dataPath,'tmp_files')"
   ]
  },
  {
   "cell_type": "code",
   "execution_count": 4,
   "id": "1568f9b2-690a-4f10-8161-23cbfc45468f",
   "metadata": {
    "tags": []
   },
   "outputs": [
    {
     "name": "stderr",
     "output_type": "stream",
     "text": [
      "/data/chenyx/anaconda3/envs/scMulan/lib/python3.9/site-packages/tqdm/auto.py:21: TqdmWarning: IProgress not found. Please update jupyter and ipywidgets. See https://ipywidgets.readthedocs.io/en/stable/user_install.html\n",
      "  from .autonotebook import tqdm as notebook_tqdm\n"
     ]
    }
   ],
   "source": [
    "from utils.hf_tokenizer import cellGenesisTokenizer"
   ]
  },
  {
   "cell_type": "code",
   "execution_count": 5,
   "id": "deea0087-1d2f-41ff-8fa9-8a657db21fb9",
   "metadata": {
    "tags": []
   },
   "outputs": [],
   "source": [
    "from model.model import GPTConfig, cellGPTModel\n",
    "import torch.nn.functional as F\n",
    "from model import model_kvcache"
   ]
  },
  {
   "cell_type": "code",
   "execution_count": 6,
   "id": "00a8f508-d6d3-41d2-85a7-de9fd080d43e",
   "metadata": {
    "tags": []
   },
   "outputs": [],
   "source": [
    "meta_info = torch.load(os.path.join(dataPath,'meta_info.pt'))\n",
    "chars = meta_info['token_set']\n",
    "tokenizer = cellGenesisTokenizer(chars)"
   ]
  },
  {
   "cell_type": "code",
   "execution_count": 7,
   "id": "2a136a31-c710-43a8-9cc7-43c4cfdfb6ae",
   "metadata": {
    "tags": []
   },
   "outputs": [],
   "source": [
    "n_express_level = 10"
   ]
  },
  {
   "cell_type": "code",
   "execution_count": 8,
   "id": "60fd8c6f-9fa0-41ba-b39d-1b465c3c7502",
   "metadata": {
    "tags": []
   },
   "outputs": [],
   "source": [
    "from multiprocessing import Pool\n",
    "import multiprocessing\n",
    "from tools.generation.denovoGeneration import generate_denovo"
   ]
  },
  {
   "cell_type": "markdown",
   "id": "2bfb9db8-a840-4bff-a8f9-ec615c62dc29",
   "metadata": {},
   "source": [
    "# Init"
   ]
  },
  {
   "cell_type": "code",
   "execution_count": 9,
   "id": "84453e2c-ea5f-48f0-8e5e-23822f88204f",
   "metadata": {
    "tags": []
   },
   "outputs": [],
   "source": [
    "import scanpy as sc\n",
    "import matplotlib.pyplot as plt"
   ]
  },
  {
   "cell_type": "code",
   "execution_count": 10,
   "id": "f1b1ce99-1776-4106-a2f6-215639c2803a",
   "metadata": {},
   "outputs": [],
   "source": [
    "def generate_prompt_for_cg(idx,meta_data,meta_pool):\n",
    "    meta_num = torch.randint(0,len(meta_pool),(1,)).item()\n",
    "    task_cols = meta_pool[meta_num]\n",
    "    metadata_series = meta_data.loc[idx, task_cols]\n",
    "    metadata_list = metadata_series.tolist()\n",
    "    while 'Unclassified' in metadata_list:\n",
    "        meta_num = torch.randint(0,len(meta_pool),(1,)).item()\n",
    "        task_cols = meta_pool[meta_num]\n",
    "        metadata_series = meta_data.loc[idx, task_cols]\n",
    "        metadata_list = metadata_series.tolist()\n",
    "    return metadata_list"
   ]
  },
  {
   "cell_type": "code",
   "execution_count": 11,
   "id": "dea20fd5-d6c5-4325-a51e-0343f16e691b",
   "metadata": {},
   "outputs": [],
   "source": [
    "def get_binned_expression(row,n_expression_level):\n",
    "    max_expr = row.max()\n",
    "    bins = np.linspace(0, max_expr, n_expression_level + 1) # 生成10个bin的边界，所以是11个值 (n+1)\n",
    "    binned_expr = np.digitize(row, bins, right=True) \n",
    "    return pd.Series(binned_expr/n_expression_level, index=row.index)"
   ]
  },
  {
   "cell_type": "code",
   "execution_count": 12,
   "id": "7a1b20ea-b9d1-4f79-ad06-25d93c697ca8",
   "metadata": {
    "tags": []
   },
   "outputs": [],
   "source": [
    "def convert_cellsentence_ele_to_df(cellGene_ele, n_expression_level, task = 'cs'):\n",
    "    dfList = []\n",
    "    ## fetch gene expression\n",
    "    for c,e in tqdm(cellGene_ele):\n",
    "        st = c.index(2207)+1\n",
    "        c_list = tokenizer.convert_ids_to_tokens(c[st:-1])\n",
    "        ele = e[st:-1]\n",
    "        dfDict = {}\n",
    "        for name,ele in zip(c_list,ele):\n",
    "            dfDict[name] = ele/n_expression_level\n",
    "        dfList.append(dfDict)\n",
    "    gDF = pd.DataFrame(dfList).fillna(0)\n",
    "    return gDF"
   ]
  },
  {
   "cell_type": "markdown",
   "id": "0b402272-777e-4568-ab3b-9b9da7198d9f",
   "metadata": {},
   "source": [
    "### load model"
   ]
  },
  {
   "cell_type": "code",
   "execution_count": 13,
   "id": "41fe0cab-4261-4ccd-8760-00bd7252d85c",
   "metadata": {
    "tags": []
   },
   "outputs": [],
   "source": [
    "from model.model import GPTConfig, cellGPTModel\n",
    "import torch.nn.functional as F\n",
    "from model.model_kvcache import cellGPTModel_kv"
   ]
  },
  {
   "cell_type": "code",
   "execution_count": 14,
   "id": "e95a4985-c3b6-4d4e-90c0-dc876f3298c1",
   "metadata": {
    "tags": []
   },
   "outputs": [
    {
     "name": "stderr",
     "output_type": "stream",
     "text": [
      "\u001b[32m2024-06-23 23:37:36.196\u001b[0m | \u001b[1mINFO    \u001b[0m | \u001b[36mmodel.model_kvcache\u001b[0m:\u001b[36m__init__\u001b[0m:\u001b[36m252\u001b[0m - \u001b[1mCurrent ele mode is: 1\u001b[0m\n",
      "\u001b[32m2024-06-23 23:37:42.767\u001b[0m | \u001b[1mINFO    \u001b[0m | \u001b[36mmodel.model_kvcache\u001b[0m:\u001b[36m__init__\u001b[0m:\u001b[36m291\u001b[0m - \u001b[1mnumber of parameters: 368.80M\u001b[0m\n"
     ]
    },
    {
     "data": {
      "text/plain": [
       "cellGPTModel_kv(\n",
       "  (transformer): ModuleDict(\n",
       "    (wte): Embedding(2222, 1120)\n",
       "    (wee): Embedding(11, 1120)\n",
       "    (drop): Dropout(p=0.0, inplace=False)\n",
       "    (h): ModuleList(\n",
       "      (0-23): 24 x Block(\n",
       "        (ln_1): LayerNorm()\n",
       "        (attn): CausalSelfAttention(\n",
       "          (c_attn): Linear(in_features=1120, out_features=3360, bias=False)\n",
       "          (c_proj): Linear(in_features=1120, out_features=1120, bias=False)\n",
       "          (attn_dropout): Dropout(p=0.0, inplace=False)\n",
       "          (resid_dropout): Dropout(p=0.0, inplace=False)\n",
       "        )\n",
       "        (ln_2): LayerNorm()\n",
       "        (mlp): MLP(\n",
       "          (c_fc): Linear(in_features=1120, out_features=4480, bias=False)\n",
       "          (c_proj): Linear(in_features=4480, out_features=1120, bias=False)\n",
       "          (dropout): Dropout(p=0.0, inplace=False)\n",
       "        )\n",
       "      )\n",
       "    )\n",
       "    (ln_f): LayerNorm()\n",
       "  )\n",
       "  (lm_head): Linear(in_features=1120, out_features=2222, bias=False)\n",
       "  (epx_head): Linear(in_features=1120, out_features=2222, bias=False)\n",
       "  (criterion): Masked_BCE_logits_loss_ignore_prefix_pretrain(\n",
       "    (bce_logits_loss): BCEWithLogitsLoss()\n",
       "    (mse_loss): MSELoss()\n",
       "  )\n",
       ")"
      ]
     },
     "execution_count": 14,
     "metadata": {},
     "output_type": "execute_result"
    }
   ],
   "source": [
    "ckp = torch.load('/nfs/public/cell_gpt_data/dataHub/datasets/datasets/ECA_GO/model_hub/ckpt245000.pt')\n",
    "gptconf = GPTConfig(**ckp['model_args'])\n",
    "model_kv = cellGPTModel_kv(gptconf)\n",
    "model_kv = model_kv.cuda()\n",
    "model_kv.load_state_dict(ckp['model'])\n",
    "model_kv.eval()"
   ]
  },
  {
   "cell_type": "markdown",
   "id": "3dd20810-93cd-4219-b69c-8714f800d493",
   "metadata": {
    "tags": []
   },
   "source": [
    "### generation"
   ]
  },
  {
   "cell_type": "code",
   "execution_count": 15,
   "id": "c9878e0f-4206-4087-bf8f-2b4f8333bc04",
   "metadata": {
    "tags": []
   },
   "outputs": [],
   "source": [
    "def pack_arg(arg,n_process):\n",
    "    return [arg for _ in range(n_process)]"
   ]
  },
  {
   "cell_type": "code",
   "execution_count": 16,
   "id": "727d1231-7af9-4fa0-ae0c-0b76dbb441dc",
   "metadata": {
    "tags": []
   },
   "outputs": [],
   "source": [
    "celltype_list = ['Cardiomyocyte cell', \"Smooth muscle cell\", \"Pericyte\", \"Vascular endothelial cell\", \"Lymphatic endothelial cell\", 'Neuron', 'Fibroblast', 'Macrophage', \"T cell\", 'B cell', 'Adipocyte', \"Monocyte\"]\n",
    "age_list = [\"20 year\", \"25 year\", \"30 year\", \"35 year\", \"40 year\", \"45 year\", \"50 year\", \"55 year\", \"60 year\", \"65 year\",  \"70 year\", \"75 year\", \"80 year\"]\n",
    "gender_list = [\"M\", \"F\"]"
   ]
  },
  {
   "cell_type": "code",
   "execution_count": 17,
   "id": "d1c55aa1-703f-4ada-a2b6-be4d69647662",
   "metadata": {
    "tags": []
   },
   "outputs": [],
   "source": [
    "combinations = []\n",
    "for a in age_list:\n",
    "    for g in gender_list:\n",
    "        for ct in celltype_list:\n",
    "            condition_dict = {'Heart': 0, ct: 0, a:0, g:0, '<SPToken1>': 0}\n",
    "            combinations.append(condition_dict)"
   ]
  },
  {
   "cell_type": "code",
   "execution_count": 18,
   "id": "18f5e614-78b3-48ca-a154-861cb07d38a8",
   "metadata": {
    "tags": []
   },
   "outputs": [
    {
     "data": {
      "text/plain": [
       "31200"
      ]
     },
     "execution_count": 18,
     "metadata": {},
     "output_type": "execute_result"
    }
   ],
   "source": [
    "repeat_n =  100\n",
    "repeated_combinations = combinations*repeat_n\n",
    "len(repeated_combinations)"
   ]
  },
  {
   "cell_type": "code",
   "execution_count": 19,
   "id": "1a0acca4-e851-4353-b94d-d9e3ee7f6b3d",
   "metadata": {
    "tags": []
   },
   "outputs": [
    {
     "name": "stdout",
     "output_type": "stream",
     "text": [
      "当前母进程: 3951372\n",
      "devices:  [0, 0, 0, 1, 1, 1, 2, 2, 2, 3, 3, 3]\n"
     ]
    },
    {
     "name": "stderr",
     "output_type": "stream",
     "text": [
      "2024-06-23 23:38:53.540 | INFO     | model.model_kvcache:__init__:252 - Current ele mode is: 1\n",
      "2024-06-23 23:38:53.597 | INFO     | model.model_kvcache:__init__:252 - Current ele mode is: 1\n",
      "2024-06-23 23:38:54.358 | INFO     | model.model_kvcache:__init__:252 - Current ele mode is: 1\n",
      "2024-06-23 23:38:54.531 | INFO     | model.model_kvcache:__init__:252 - Current ele mode is: 1\n",
      "2024-06-23 23:38:54.605 | INFO     | model.model_kvcache:__init__:252 - Current ele mode is: 1\n",
      "2024-06-23 23:38:54.692 | INFO     | model.model_kvcache:__init__:252 - Current ele mode is: 1\n",
      "2024-06-23 23:38:54.758 | INFO     | model.model_kvcache:__init__:252 - Current ele mode is: 1\n",
      "2024-06-23 23:38:54.849 | INFO     | model.model_kvcache:__init__:252 - Current ele mode is: 1\n",
      "2024-06-23 23:38:54.943 | INFO     | model.model_kvcache:__init__:252 - Current ele mode is: 1\n",
      "2024-06-23 23:38:55.009 | INFO     | model.model_kvcache:__init__:252 - Current ele mode is: 1\n",
      "2024-06-23 23:38:55.048 | INFO     | model.model_kvcache:__init__:252 - Current ele mode is: 1\n",
      "2024-06-23 23:38:55.079 | INFO     | model.model_kvcache:__init__:252 - Current ele mode is: 1\n",
      "2024-06-23 23:38:59.737 | INFO     | model.model_kvcache:__init__:291 - number of parameters: 368.80M\n",
      "2024-06-23 23:38:59.792 | INFO     | model.model_kvcache:__init__:291 - number of parameters: 368.80M\n"
     ]
    },
    {
     "name": "stdout",
     "output_type": "stream",
     "text": [
      "当前子进程: 3952837\n",
      "当前子进程: 3952848\n"
     ]
    },
    {
     "name": "stderr",
     "output_type": "stream",
     "text": [
      "  0%|          | 0/2600 [00:00<?, ?it/s]2024-06-23 23:39:00.444 | INFO     | model.model_kvcache:__init__:291 - number of parameters: 368.80M\n",
      "2024-06-23 23:39:00.633 | INFO     | model.model_kvcache:__init__:291 - number of parameters: 368.80M\n"
     ]
    },
    {
     "name": "stdout",
     "output_type": "stream",
     "text": [
      "当前子进程: 3952839\n"
     ]
    },
    {
     "name": "stderr",
     "output_type": "stream",
     "text": [
      "  0%|          | 1/2600 [00:00<32:31,  1.33it/s]2024-06-23 23:39:00.765 | INFO     | model.model_kvcache:__init__:291 - number of parameters: 368.80M\n",
      "2024-06-23 23:39:00.814 | INFO     | model.model_kvcache:__init__:291 - number of parameters: 368.80M\n"
     ]
    },
    {
     "name": "stdout",
     "output_type": "stream",
     "text": [
      "当前子进程: 3952841\n",
      "当前子进程: 3952849\n",
      "当前子进程: 3952843\n"
     ]
    },
    {
     "name": "stderr",
     "output_type": "stream",
     "text": [
      "  0%|          | 0/2600 [00:00<?, ?it/s]2024-06-23 23:39:00.942 | INFO     | model.model_kvcache:__init__:291 - number of parameters: 368.80M\n",
      "2024-06-23 23:39:00.944 | INFO     | model.model_kvcache:__init__:291 - number of parameters: 368.80M\n",
      "  0%|          | 0/2600 [00:00<?, ?it/s].04s/it]"
     ]
    },
    {
     "name": "stdout",
     "output_type": "stream",
     "text": [
      "当前子进程: 3952846\n",
      "当前子进程: 3952847\n"
     ]
    },
    {
     "name": "stderr",
     "output_type": "stream",
     "text": [
      "  0%|          | 0/2600 [00:00<?, ?it/s]2024-06-23 23:39:01.340 | INFO     | model.model_kvcache:__init__:291 - number of parameters: 368.80M\n"
     ]
    },
    {
     "name": "stdout",
     "output_type": "stream",
     "text": [
      "当前子进程: 3952844\n"
     ]
    },
    {
     "name": "stderr",
     "output_type": "stream",
     "text": [
      "  0%|          | 1/2600 [00:01<1:13:43,  1.70s/it]2024-06-23 23:39:02.563 | INFO     | model.model_kvcache:__init__:291 - number of parameters: 368.80M\n",
      "  0%|          | 1/2600 [00:02<1:26:59,  2.01s/it]"
     ]
    },
    {
     "name": "stdout",
     "output_type": "stream",
     "text": [
      "当前子进程: 3952845\n"
     ]
    },
    {
     "name": "stderr",
     "output_type": "stream",
     "text": [
      "2024-06-23 23:39:03.344 | INFO     | model.model_kvcache:__init__:291 - number of parameters: 368.80M\n",
      "  0%|          | 0/2600 [00:00<?, ?it/s].33s/it]  "
     ]
    },
    {
     "name": "stdout",
     "output_type": "stream",
     "text": [
      "当前子进程: 3952842\n"
     ]
    },
    {
     "name": "stderr",
     "output_type": "stream",
     "text": [
      "  0%|          | 2/2600 [00:03<1:24:42,  1.96s/it]2024-06-23 23:39:05.436 | INFO     | model.model_kvcache:__init__:291 - number of parameters: 368.80M\n",
      "  0%|          | 0/2600 [00:00<?, ?it/s] 1.50s/it]"
     ]
    },
    {
     "name": "stdout",
     "output_type": "stream",
     "text": [
      "当前子进程: 3952840\n"
     ]
    },
    {
     "name": "stderr",
     "output_type": "stream",
     "text": [
      "100%|██████████| 2600/2600 [1:30:49<00:00,  2.10s/it]  \n",
      "100%|██████████| 2600/2600 [1:31:05<00:00,  2.10s/it]\n",
      "100%|██████████| 2600/2600 [1:31:17<00:00,  2.11s/it]\n",
      "100%|██████████| 2600/2600 [1:31:51<00:00,  2.12s/it]\n",
      "100%|██████████| 2600/2600 [1:31:53<00:00,  2.12s/it]\n",
      "100%|██████████| 2600/2600 [1:31:58<00:00,  2.12s/it]\n",
      "100%|██████████| 2600/2600 [1:32:06<00:00,  2.13s/it]\n",
      "100%|██████████| 2600/2600 [1:32:10<00:00,  2.13s/it]\n",
      "100%|██████████| 2600/2600 [1:32:21<00:00,  2.13s/it]\n",
      "100%|██████████| 2600/2600 [1:32:31<00:00,  2.14s/it]\n",
      "100%|██████████| 2600/2600 [1:32:29<00:00,  2.13s/it]\n",
      "100%|██████████| 2600/2600 [1:32:55<00:00,  2.14s/it]\n"
     ]
    },
    {
     "name": "stdout",
     "output_type": "stream",
     "text": [
      "Generation Finished, 总共用时5598.848963737488秒\n"
     ]
    }
   ],
   "source": [
    "if __name__ == '__main__': \n",
    "    multiprocessing.set_start_method('spawn', force=True)\n",
    "    print('当前母进程: {}'.format(os.getpid()))\n",
    "    start = time.time()\n",
    "    gamma = 0.1 # 控制生成长度（作用也不是特别大，一般是0.1），其实是在生成中，对<E>这个logit的加权\n",
    "    use_gpu_device = [0, 1, 2, 3] # 用哪几块GPU，越多越好，大概是每块10G显存。\n",
    "    n_process_in_each_gpu = 3 # 每个GPU上并行几个，默认是2；\n",
    "    ckp_path = '/nfs/public/cell_gpt_data/dataHub/datasets/datasets/ECA_GO/model_hub/ckpt245000.pt' # 模型地址\n",
    "    results_dir = f'/nfs/public/cell_gpt_data/dataHub/generated_cells/Heart_aging/' # 存储文件地址，需要改名；会自动新建最后一个文件夹\n",
    "\n",
    "    world_size = len(use_gpu_device)\n",
    "    n_process = n_process_in_each_gpu * world_size\n",
    "    process_idx = list(range(n_process))\n",
    "    devices = [device for device in use_gpu_device for _ in range(n_process_in_each_gpu)]    \n",
    "    print(\"devices: \",devices)\n",
    "\n",
    "    if not os.path.exists(results_dir):\n",
    "        os.mkdir(results_dir)\n",
    "    results_save_dir = results_dir + 'generate_01gamma_' ## 随便给个Note记一下参数之类的\n",
    "    # meta_data_organ = meta_sub_heart\n",
    "    meta_data_organ = None\n",
    "\n",
    "    idxs = np.array_split(repeated_combinations, n_process) # 这里的idxs其实不规范，给的是生成条件，而不是真的index\n",
    "    idxs = [list(idx) for idx in idxs]\n",
    "\n",
    "\n",
    "    gammas = pack_arg(gamma,n_process)\n",
    "    # 不抽metadata，直接把meta_term改成自己想要的数值，也就是指定的organ和cell type\n",
    "    force_meta = pack_arg(True, n_process) \n",
    "\n",
    "    meta_terms = pack_arg(\n",
    "         None\n",
    "        ,n_process)\n",
    "\n",
    "    # meta_terms = pack_arg(['organ','cell_type'],n_process) # 如果不force的话\n",
    "    meta_organs = pack_arg(meta_data_organ,n_process)\n",
    "\n",
    "    ckp_paths = pack_arg(ckp_path,n_process)\n",
    "    results_save_dirs = [results_save_dir+str(process_id)+'results.pt' for _,process_id in zip(devices,process_idx)]\n",
    "\n",
    "    args = [(idx, device, gamma, meta_organ, ckp_path, save_path, meta_term, force) \\\n",
    "            for idx, device, gamma, meta_organ,ckp_path,save_path,meta_term, force in \\\n",
    "            zip(idxs, devices,gammas, meta_organs, ckp_paths,results_save_dirs,meta_terms, force_meta)]\n",
    "    # 创建进程池\n",
    "    with Pool(n_process) as pool:\n",
    "        # 使用pool.map并行处理\n",
    "        pool.map(generate_denovo.generate, args)\n",
    "\n",
    "    end = time.time()\n",
    "    print(\"Generation Finished, 总共用时{}秒\".format((end - start)))"
   ]
  },
  {
   "cell_type": "markdown",
   "id": "494bf5e2-a7dd-47aa-b288-6c411f388b2e",
   "metadata": {},
   "source": [
    "# Proprocess generated data"
   ]
  },
  {
   "cell_type": "markdown",
   "id": "f4ddbbc1-0280-41b6-8f6a-cc1cffbc5fa9",
   "metadata": {},
   "source": [
    "### set functions"
   ]
  },
  {
   "cell_type": "code",
   "execution_count": 20,
   "id": "5a206a2a-46c2-4dd3-bba5-eb2404d18de0",
   "metadata": {
    "tags": []
   },
   "outputs": [],
   "source": [
    "import tools.generation.convert_generation_to_gdata as cgdata"
   ]
  },
  {
   "cell_type": "code",
   "execution_count": 21,
   "id": "c900338e-24fd-4152-8a36-3111a1179708",
   "metadata": {
    "tags": []
   },
   "outputs": [],
   "source": [
    "def get_binned_expression(row,n_expression_level):\n",
    "    max_expr = row.max()\n",
    "    bins = np.linspace(0, max_expr, n_expression_level + 1) # 生成10个bin的边界，所以是11个值 (n+1)\n",
    "    binned_expr = np.digitize(row, bins, right=True) \n",
    "    return pd.Series(binned_expr/n_expression_level, index=row.index)\n",
    "\n",
    "def convert_cellsentence_ele_to_df(cellGene_ele, n_expression_level, task = 'cs'):\n",
    "    dfList = []\n",
    "    ## fetch gene expression\n",
    "    for c,e in tqdm(cellGene_ele):\n",
    "        st = c.index(2207)+1\n",
    "        c_list = tokenizer.convert_ids_to_tokens(c[st:-1])\n",
    "        ele = e[st:-1]\n",
    "        dfDict = {}\n",
    "        for name,ele in zip(c_list,ele):\n",
    "            dfDict[name] = ele/n_expression_level\n",
    "        dfList.append(dfDict)\n",
    "    gDF = pd.DataFrame(dfList).fillna(0)\n",
    "    return gDF"
   ]
  },
  {
   "cell_type": "code",
   "execution_count": 22,
   "id": "1362d3ba-dc36-489f-99e3-bb427b481bf2",
   "metadata": {
    "tags": []
   },
   "outputs": [],
   "source": [
    "def format_generation_to_adata(generation_path,cell_type):\n",
    "    results_save_dirs = [generation_path+res_p for res_p in os.listdir(generation_path)]\n",
    "    results_save_dirs.sort()\n",
    "    logger.info('working path is',generation_path)\n",
    "    all_results = {'idx': [], 'cgg': [], 'cge': []}\n",
    "    \n",
    "    logger.info('building dataframe')\n",
    "    for path in tqdm(results_save_dirs):\n",
    "        # 加载结果\n",
    "        results = torch.load(path)\n",
    "        # 将每个结果文件的内容添加到all_results字典\n",
    "        for key, value in results.items():\n",
    "            all_results[key].extend(value)\n",
    "    \n",
    "    cgg = all_results['cgg']\n",
    "    cge = all_results['cge']\n",
    "    \n",
    "    gg_len = []\n",
    "    for gg in cgg:\n",
    "        gg_len.append(len(gg))\n",
    "    plt.hist(np.array(gg_len),bins=50,)\n",
    "    \n",
    "    gDF = convert_cellsentence_ele_to_df(zip(cgg,cge),n_express_level)\n",
    "    origin_columns = list(meta_info['gene_set'])\n",
    "    missing_columns = list(set(origin_columns) - set(gDF.columns))\n",
    "    logger.debug(f'missing column number is {len(missing_columns)}')\n",
    "    missing_columns_data = pd.DataFrame(0, columns=missing_columns, index=gDF.index)\n",
    "    gDF = pd.concat([gDF, missing_columns_data], axis=1)\n",
    "    gDF = gDF.reindex(columns=origin_columns)\n",
    "    gDF.index = gDF.index.astype(str) + '_generated'\n",
    "    gDF = sc.AnnData(gDF.astype(float))\n",
    "    gDF.obs['cell_type'] = cell_type\n",
    "    return gDF"
   ]
  },
  {
   "cell_type": "code",
   "execution_count": 23,
   "id": "39361803-b498-45bb-b3c9-01669748ca95",
   "metadata": {
    "tags": []
   },
   "outputs": [
    {
     "name": "stderr",
     "output_type": "stream",
     "text": [
      "\u001b[32m2024-06-24 01:12:01.555\u001b[0m | \u001b[1mINFO    \u001b[0m | \u001b[36mtools.generation.convert_generation_to_gdata\u001b[0m:\u001b[36mformat_generated_dict_to_adata\u001b[0m:\u001b[36m42\u001b[0m - \u001b[1mworking path is\u001b[0m\n",
      "\u001b[32m2024-06-24 01:12:01.557\u001b[0m | \u001b[1mINFO    \u001b[0m | \u001b[36mtools.generation.convert_generation_to_gdata\u001b[0m:\u001b[36mformat_generated_dict_to_adata\u001b[0m:\u001b[36m45\u001b[0m - \u001b[1mbuilding dataframe\u001b[0m\n",
      "100%|██████████| 12/12 [00:00<00:00, 12.03it/s]\n",
      "100%|██████████| 31200/31200 [00:00<00:00, 39974.56it/s]\n",
      "\u001b[32m2024-06-24 01:12:10.727\u001b[0m | \u001b[34m\u001b[1mDEBUG   \u001b[0m | \u001b[36mtools.generation.convert_generation_to_gdata\u001b[0m:\u001b[36mformat_generated_dict_to_adata\u001b[0m:\u001b[36m64\u001b[0m - \u001b[34m\u001b[1mmissing column number is 352\u001b[0m\n"
     ]
    },
    {
     "data": {
      "image/png": "[encoded data removed]",
      "text/plain": [
       "<Figure size 640x480 with 1 Axes>"
      ]
     },
     "metadata": {},
     "output_type": "display_data"
    }
   ],
   "source": [
    "generated_path = f'/nfs/public/cell_gpt_data/dataHub/generated_cells/Heart_aging/'\n",
    "adata_generated,idxs = cgdata.format_generated_dict_to_adata(generation_path = generated_path,\n",
    "                                     cell_type = \"NA\", # 生成的细胞类型\n",
    "                                     n_express_level = n_express_level,\n",
    "                                     meta_info = meta_info,\n",
    "                                     tokenizer = tokenizer,\n",
    "                                     rename_index = False)"
   ]
  },
  {
   "cell_type": "code",
   "execution_count": 24,
   "id": "20ce02e7-fb9e-45e4-9aa1-c280b67fc43a",
   "metadata": {
    "tags": []
   },
   "outputs": [
    {
     "data": {
      "text/plain": [
       "AnnData object with n_obs × n_vars = 31200 × 2000\n",
       "    obs: 'cell_type'"
      ]
     },
     "execution_count": 24,
     "metadata": {},
     "output_type": "execute_result"
    }
   ],
   "source": [
    "adata_generated"
   ]
  },
  {
   "cell_type": "code",
   "execution_count": 25,
   "id": "1a6553f0-09d7-42d4-b5b1-0cc987bf4870",
   "metadata": {
    "tags": []
   },
   "outputs": [],
   "source": [
    "adata_generated.obs['age'] = \"\"\n",
    "adata_generated.obs['gender'] = \"\""
   ]
  },
  {
   "cell_type": "code",
   "execution_count": 26,
   "id": "8808fcd6-399e-4765-be01-292b442004ef",
   "metadata": {
    "tags": []
   },
   "outputs": [],
   "source": [
    "adata_generated.obs.loc[:,['cell_type', 'age', 'gender']] = np.array([list(x.keys())[1:4] for x in repeated_combinations])"
   ]
  },
  {
   "cell_type": "code",
   "execution_count": 27,
   "id": "85b4a879-a937-439c-81fc-e45a30408060",
   "metadata": {
    "tags": []
   },
   "outputs": [],
   "source": [
    "adata_generated.write_h5ad(\"/nfs/public/cell_gpt_data/dataHub/generated_cells/Heart_aging/merged.h5ad\")"
   ]
  }
 ],
 "metadata": {
  "kernelspec": {
   "display_name": "scMulan",
   "language": "python",
   "name": "scmulan"
  },
  "language_info": {
   "codemirror_mode": {
    "name": "ipython",
    "version": 3
   },
   "file_extension": ".py",
   "mimetype": "text/x-python",
   "name": "python",
   "nbconvert_exporter": "python",
   "pygments_lexer": "ipython3",
   "version": "3.9.18"
  }
 },
 "nbformat": 4,
 "nbformat_minor": 5
}
