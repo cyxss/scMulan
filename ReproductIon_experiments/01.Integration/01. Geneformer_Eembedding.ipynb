{
 "cells": [
  {
   "cell_type": "code",
   "execution_count": 1,
   "id": "12cdc6fb-cad6-484c-862c-a3ab77c58a45",
   "metadata": {
    "execution": {
     "iopub.execute_input": "2024-04-16T05:56:56.845554Z",
     "iopub.status.busy": "2024-04-16T05:56:56.845084Z",
     "iopub.status.idle": "2024-04-16T05:56:56.854087Z",
     "shell.execute_reply": "2024-04-16T05:56:56.853207Z",
     "shell.execute_reply.started": "2024-04-16T05:56:56.845529Z"
    },
    "tags": []
   },
   "outputs": [],
   "source": [
    "import os\n",
    "GPU_NUMBER = [1]\n",
    "os.environ[\"CUDA_VISIBLE_DEVICES\"] = \",\".join([str(s) for s in GPU_NUMBER])\n",
    "os.environ[\"NCCL_DEBUG\"] = \"INFO\""
   ]
  },
  {
   "cell_type": "code",
   "execution_count": 2,
   "id": "1b2351eb-0bb9-45df-8271-8735c7fc1a10",
   "metadata": {
    "execution": {
     "iopub.execute_input": "2024-04-16T05:56:59.000845Z",
     "iopub.status.busy": "2024-04-16T05:56:59.000035Z",
     "iopub.status.idle": "2024-04-16T05:57:04.891319Z",
     "shell.execute_reply": "2024-04-16T05:57:04.890581Z",
     "shell.execute_reply.started": "2024-04-16T05:56:59.000784Z"
    },
    "tags": []
   },
   "outputs": [
    {
     "name": "stderr",
     "output_type": "stream",
     "text": [
      "/data1/chenyx/anaconda3/envs/Geneformer/lib/python3.9/site-packages/loompy/bus_file.py:68: NumbaDeprecationWarning: The 'nopython' keyword argument was not supplied to the 'numba.jit' decorator. The implicit default value for this argument is currently False, but it will be changed to True in Numba 0.59.0. See https://numba.readthedocs.io/en/stable/reference/deprecation.html#deprecation-of-object-mode-fall-back-behaviour-when-using-jit for details.\n",
      "  def twobit_to_dna(twobit: int, size: int) -> str:\n",
      "/data1/chenyx/anaconda3/envs/Geneformer/lib/python3.9/site-packages/loompy/bus_file.py:85: NumbaDeprecationWarning: The 'nopython' keyword argument was not supplied to the 'numba.jit' decorator. The implicit default value for this argument is currently False, but it will be changed to True in Numba 0.59.0. See https://numba.readthedocs.io/en/stable/reference/deprecation.html#deprecation-of-object-mode-fall-back-behaviour-when-using-jit for details.\n",
      "  def dna_to_twobit(dna: str) -> int:\n",
      "/data1/chenyx/anaconda3/envs/Geneformer/lib/python3.9/site-packages/loompy/bus_file.py:102: NumbaDeprecationWarning: The 'nopython' keyword argument was not supplied to the 'numba.jit' decorator. The implicit default value for this argument is currently False, but it will be changed to True in Numba 0.59.0. See https://numba.readthedocs.io/en/stable/reference/deprecation.html#deprecation-of-object-mode-fall-back-behaviour-when-using-jit for details.\n",
      "  def twobit_1hamming(twobit: int, size: int) -> List[int]:\n",
      "/data1/chenyx/anaconda3/envs/Geneformer/lib/python3.9/site-packages/tqdm/auto.py:21: TqdmWarning: IProgress not found. Please update jupyter and ipywidgets. See https://ipywidgets.readthedocs.io/en/stable/user_install.html\n",
      "  from .autonotebook import tqdm as notebook_tqdm\n"
     ]
    }
   ],
   "source": [
    "from geneformer import EmbExtractor"
   ]
  },
  {
   "cell_type": "code",
   "execution_count": 3,
   "id": "f998eccf-5a6f-4154-b24a-122c0310830d",
   "metadata": {
    "execution": {
     "iopub.execute_input": "2024-04-16T05:57:04.893134Z",
     "iopub.status.busy": "2024-04-16T05:57:04.892568Z",
     "iopub.status.idle": "2024-04-16T05:57:04.913295Z",
     "shell.execute_reply": "2024-04-16T05:57:04.912403Z",
     "shell.execute_reply.started": "2024-04-16T05:57:04.893108Z"
    },
    "tags": []
   },
   "outputs": [],
   "source": [
    "embex = EmbExtractor(model_type=\"Pretrained\",\n",
    "                     num_classes=0,\n",
    "                     emb_mode='cell',\n",
    "                     forward_batch_size=200,\n",
    "                     max_ncells=None,\n",
    "                     nproc=16)"
   ]
  },
  {
   "cell_type": "code",
   "execution_count": null,
   "id": "a6a333c0-4df9-4aef-8954-236bb4e8e56c",
   "metadata": {
    "tags": []
   },
   "outputs": [],
   "source": [
    "embs = embex.extract_embs(\"/data1/chenyx/Geneformer/\",\n",
    "                          \"/nfs/public/cell_gpt_data/Geneformer_4_recomb/dataset/tokenized/Integration_Lung.dataset/\",\n",
    "                          output_directory = \"/nfs/public/cell_gpt_data/Intergation_Data/Lung/Results/\",\n",
    "                          output_prefix = \"Geneformer6L_Lung\")"
   ]
  },
  {
   "cell_type": "code",
   "execution_count": 13,
   "id": "7492c382-a2c2-4cab-a173-fee9c9ea8081",
   "metadata": {
    "execution": {
     "iopub.execute_input": "2023-12-29T13:52:12.279439Z",
     "iopub.status.busy": "2023-12-29T13:52:12.278975Z",
     "iopub.status.idle": "2023-12-29T14:27:46.471774Z",
     "shell.execute_reply": "2023-12-29T14:27:46.470582Z",
     "shell.execute_reply.started": "2023-12-29T13:52:12.279399Z"
    },
    "tags": []
   },
   "outputs": [
    {
     "name": "stderr",
     "output_type": "stream",
     "text": [
      "100%|██████████| 1372/1372 [34:06<00:00,  1.49s/it] \n"
     ]
    }
   ],
   "source": [
    "embs = embex.extract_embs(\"/data1/chenyx/Geneformer/\",\n",
    "                          \"/nfs/public/cell_gpt_data/Geneformer_4_recomb/dataset/tokenized/Integration_COVID19.dataset/\",\n",
    "                          output_directory = \"/nfs/public/cell_gpt_data/Intergation_COVID/Results/\",\n",
    "                          output_prefix = \"Geneformer6L_COVID\")"
   ]
  }
 ],
 "metadata": {
  "kernelspec": {
   "display_name": "Geneformer",
   "language": "python",
   "name": "geneformer"
  },
  "language_info": {
   "codemirror_mode": {
    "name": "ipython",
    "version": 3
   },
   "file_extension": ".py",
   "mimetype": "text/x-python",
   "name": "python",
   "nbconvert_exporter": "python",
   "pygments_lexer": "ipython3",
   "version": "3.9.18"
  }
 },
 "nbformat": 4,
 "nbformat_minor": 5
}
