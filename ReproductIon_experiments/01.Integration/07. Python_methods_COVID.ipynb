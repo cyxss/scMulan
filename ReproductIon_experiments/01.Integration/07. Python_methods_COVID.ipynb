{
 "cells": [
  {
   "cell_type": "code",
   "execution_count": 1,
   "id": "15b871a4-d26a-4376-bb47-36972b2a30c2",
   "metadata": {
    "execution": {
     "iopub.execute_input": "2023-12-29T14:35:01.380451Z",
     "iopub.status.busy": "2023-12-29T14:35:01.379998Z",
     "iopub.status.idle": "2023-12-29T14:35:22.792102Z",
     "shell.execute_reply": "2023-12-29T14:35:22.791297Z",
     "shell.execute_reply.started": "2023-12-29T14:35:01.380420Z"
    },
    "tags": []
   },
   "outputs": [],
   "source": [
    "import numpy as np\n",
    "import pandas as pd\n",
    "\n",
    "import scanpy as sc\n",
    "from collections import Counter\n",
    "from sklearn.metrics import adjusted_rand_score, normalized_mutual_info_score, silhouette_score\n",
    "from tqdm.auto import tqdm"
   ]
  },
  {
   "cell_type": "code",
   "execution_count": 2,
   "id": "b560b47e-ff53-4dcb-9465-3a5f4037e875",
   "metadata": {
    "execution": {
     "iopub.execute_input": "2023-12-29T14:35:22.794278Z",
     "iopub.status.busy": "2023-12-29T14:35:22.793682Z",
     "iopub.status.idle": "2023-12-29T14:35:22.949088Z",
     "shell.execute_reply": "2023-12-29T14:35:22.948205Z",
     "shell.execute_reply.started": "2023-12-29T14:35:22.794250Z"
    },
    "tags": []
   },
   "outputs": [],
   "source": [
    "from numba import set_num_threads\n",
    "\n",
    "set_num_threads(16)"
   ]
  },
  {
   "cell_type": "code",
   "execution_count": 3,
   "id": "84955437-805c-402d-94ed-153037ffafc7",
   "metadata": {
    "execution": {
     "iopub.execute_input": "2023-12-29T14:35:22.950614Z",
     "iopub.status.busy": "2023-12-29T14:35:22.950166Z",
     "iopub.status.idle": "2023-12-29T14:35:22.953487Z",
     "shell.execute_reply": "2023-12-29T14:35:22.953022Z",
     "shell.execute_reply.started": "2023-12-29T14:35:22.950585Z"
    },
    "tags": []
   },
   "outputs": [],
   "source": [
    "import anndata as ad"
   ]
  },
  {
   "cell_type": "markdown",
   "id": "9f9ff8d3-a3ec-4791-bc12-3ba3bf2148e7",
   "metadata": {},
   "source": [
    "# Load raw data"
   ]
  },
  {
   "cell_type": "code",
   "execution_count": 4,
   "id": "fcf7cbf4-bf6f-46d1-9519-167ec06c3886",
   "metadata": {
    "execution": {
     "iopub.execute_input": "2023-11-01T12:00:50.010244Z",
     "iopub.status.busy": "2023-11-01T12:00:50.009302Z",
     "iopub.status.idle": "2023-11-01T12:01:16.583521Z",
     "shell.execute_reply": "2023-11-01T12:01:16.582794Z",
     "shell.execute_reply.started": "2023-11-01T12:00:50.010192Z"
    },
    "tags": []
   },
   "outputs": [],
   "source": [
    "adata_merged = sc.read_h5ad(\"/nfs/public/cell_gpt_data/Intergation_COVID/raw_uniformed.h5ad\")"
   ]
  },
  {
   "cell_type": "code",
   "execution_count": 5,
   "id": "3b534cc7-4537-403b-a893-4637242b6742",
   "metadata": {
    "execution": {
     "iopub.execute_input": "2023-11-01T12:01:16.584852Z",
     "iopub.status.busy": "2023-11-01T12:01:16.584702Z",
     "iopub.status.idle": "2023-11-01T12:01:16.593824Z",
     "shell.execute_reply": "2023-11-01T12:01:16.593394Z",
     "shell.execute_reply.started": "2023-11-01T12:01:16.584836Z"
    },
    "tags": []
   },
   "outputs": [
    {
     "data": {
      "text/plain": [
       "AnnData object with n_obs × n_vars = 274346 × 42117\n",
       "    obs: 'age', 'age_range', 'anatomical_region', 'anatomical_region_detailed', 'batch', 'dataset', 'disease', 'donor', 'ethnicity', 'ethnicity_mixed', 'last_author/PI', 'lung_vs_nasal', 'original_celltype_ann', 'pack_years', 'sample', 'sample_alias', 'sample_type', 'sampling_method', 'sex', 'smoking', 'total_counts', 'log10_total_counts', 'n_genes_detected', 'mito_frac', 'ribo_frac', 'compl', 'ann_level_1', 'ann_level_2', 'ann_level_3', 'ann_level_4', 'ann_level_5', 'ann_highest_res', 'ann_new', 'subject_type', 'study', 'study2', 'celltype', 'condition', 'cellnames', 'cluster', 'stage', 'ID', 'sample_new', 'chemistry', 'data_type', 'dpt_pseudotime', 'final_annotation', 'mt_frac', 'n_counts', 'n_genes', 'sample_ID', 'size_factors', 'species', 'tissue'"
      ]
     },
     "execution_count": 5,
     "metadata": {},
     "output_type": "execute_result"
    }
   ],
   "source": [
    "adata_merged"
   ]
  },
  {
   "cell_type": "code",
   "execution_count": 6,
   "id": "94fd37b2-4109-47d6-8c92-3b9f1de8a907",
   "metadata": {
    "execution": {
     "iopub.execute_input": "2023-11-01T12:01:16.594506Z",
     "iopub.status.busy": "2023-11-01T12:01:16.594397Z",
     "iopub.status.idle": "2023-11-01T12:01:22.675468Z",
     "shell.execute_reply": "2023-11-01T12:01:22.674573Z",
     "shell.execute_reply.started": "2023-11-01T12:01:16.594492Z"
    },
    "tags": []
   },
   "outputs": [],
   "source": [
    "sc.pp.normalize_total(adata_merged, target_sum=1e4)\n",
    "sc.pp.log1p(adata_merged)"
   ]
  },
  {
   "cell_type": "markdown",
   "id": "6b979d71-8c81-4c21-87d7-c213f537b6c8",
   "metadata": {
    "execution": {
     "iopub.execute_input": "2023-10-30T08:25:44.474756Z",
     "iopub.status.busy": "2023-10-30T08:25:44.474169Z",
     "iopub.status.idle": "2023-10-30T08:25:44.478890Z",
     "shell.execute_reply": "2023-10-30T08:25:44.478331Z",
     "shell.execute_reply.started": "2023-10-30T08:25:44.474710Z"
    },
    "tags": []
   },
   "source": [
    "# Process without integration"
   ]
  },
  {
   "cell_type": "code",
   "execution_count": 7,
   "id": "0ab0f15f-85cd-461d-9ec6-9633f70160f3",
   "metadata": {
    "execution": {
     "iopub.execute_input": "2023-11-01T12:02:02.592814Z",
     "iopub.status.busy": "2023-11-01T12:02:02.592114Z",
     "iopub.status.idle": "2023-11-01T12:02:02.920458Z",
     "shell.execute_reply": "2023-11-01T12:02:02.919781Z",
     "shell.execute_reply.started": "2023-11-01T12:02:02.592715Z"
    },
    "tags": []
   },
   "outputs": [],
   "source": [
    "#sc.pp.highly_variable_genes(adata_merged,batch_key=\"str_batch\", n_top_genes=2000)\n",
    "#adata_merged = adata_merged[:,adata_merged.var.highly_variable]\n",
    "adata_merged = adata_merged[:,pd.read_csv(\"../gene_list.csv\",index_col=0)['gene_name']]"
   ]
  },
  {
   "cell_type": "code",
   "execution_count": 8,
   "id": "b7f7b735-1420-4a1b-909b-d5a510463cfc",
   "metadata": {
    "execution": {
     "iopub.execute_input": "2023-11-01T12:02:05.491474Z",
     "iopub.status.busy": "2023-11-01T12:02:05.490701Z",
     "iopub.status.idle": "2023-11-01T12:02:05.499015Z",
     "shell.execute_reply": "2023-11-01T12:02:05.498484Z",
     "shell.execute_reply.started": "2023-11-01T12:02:05.491417Z"
    },
    "tags": []
   },
   "outputs": [
    {
     "data": {
      "text/plain": [
       "View of AnnData object with n_obs × n_vars = 274346 × 2000\n",
       "    obs: 'age', 'age_range', 'anatomical_region', 'anatomical_region_detailed', 'batch', 'dataset', 'disease', 'donor', 'ethnicity', 'ethnicity_mixed', 'last_author/PI', 'lung_vs_nasal', 'original_celltype_ann', 'pack_years', 'sample', 'sample_alias', 'sample_type', 'sampling_method', 'sex', 'smoking', 'total_counts', 'log10_total_counts', 'n_genes_detected', 'mito_frac', 'ribo_frac', 'compl', 'ann_level_1', 'ann_level_2', 'ann_level_3', 'ann_level_4', 'ann_level_5', 'ann_highest_res', 'ann_new', 'subject_type', 'study', 'study2', 'celltype', 'condition', 'cellnames', 'cluster', 'stage', 'ID', 'sample_new', 'chemistry', 'data_type', 'dpt_pseudotime', 'final_annotation', 'mt_frac', 'n_counts', 'n_genes', 'sample_ID', 'size_factors', 'species', 'tissue'\n",
       "    uns: 'log1p'"
      ]
     },
     "execution_count": 8,
     "metadata": {},
     "output_type": "execute_result"
    }
   ],
   "source": [
    "adata_merged"
   ]
  },
  {
   "cell_type": "code",
   "execution_count": 10,
   "id": "78a5084c-7bfe-4d69-a634-5be9612ffb5e",
   "metadata": {
    "execution": {
     "iopub.execute_input": "2023-11-01T12:27:56.022681Z",
     "iopub.status.busy": "2023-11-01T12:27:56.022475Z",
     "iopub.status.idle": "2023-11-01T12:28:02.138678Z",
     "shell.execute_reply": "2023-11-01T12:28:02.137879Z",
     "shell.execute_reply.started": "2023-11-01T12:27:56.022657Z"
    },
    "tags": []
   },
   "outputs": [],
   "source": [
    "adata_merged.write_h5ad(\"/nfs/public/cell_gpt_data/Intergation_COVID/Results/raw.h5ad\")"
   ]
  },
  {
   "cell_type": "code",
   "execution_count": 6,
   "id": "b3ea13b8-a9bf-417d-8346-2b50adad22a0",
   "metadata": {
    "execution": {
     "iopub.execute_input": "2023-11-01T12:31:43.182447Z",
     "iopub.status.busy": "2023-11-01T12:31:43.182241Z",
     "iopub.status.idle": "2023-11-01T12:32:01.690809Z",
     "shell.execute_reply": "2023-11-01T12:32:01.690278Z",
     "shell.execute_reply.started": "2023-11-01T12:31:43.182425Z"
    },
    "tags": []
   },
   "outputs": [
    {
     "data": {
      "image/png": "[encoded data removed]",
      "text/plain": [
       "<Figure size 460.8x345.6 with 1 Axes>"
      ]
     },
     "metadata": {
      "needs_background": "light"
     },
     "output_type": "display_data"
    }
   ],
   "source": [
    "# PCA\n",
    "sc.tl.pca(adata_merged, svd_solver='arpack')\n",
    "sc.pl.pca_variance_ratio(adata_merged, n_pcs=50, log=True)"
   ]
  },
  {
   "cell_type": "code",
   "execution_count": 7,
   "id": "542ee574-5c9a-4361-9a81-f6873783251a",
   "metadata": {
    "execution": {
     "iopub.execute_input": "2023-11-01T12:32:27.991614Z",
     "iopub.status.busy": "2023-11-01T12:32:27.990996Z",
     "iopub.status.idle": "2023-11-01T12:36:05.285170Z",
     "shell.execute_reply": "2023-11-01T12:36:05.284434Z",
     "shell.execute_reply.started": "2023-11-01T12:32:27.991558Z"
    },
    "tags": []
   },
   "outputs": [
    {
     "name": "stderr",
     "output_type": "stream",
     "text": [
      "2023-11-01 20:32:31.162889: I tensorflow/core/util/util.cc:169] oneDNN custom operations are on. You may see slightly different numerical results due to floating-point round-off errors from different computation orders. To turn them off, set the environment variable `TF_ENABLE_ONEDNN_OPTS=0`.\n"
     ]
    }
   ],
   "source": [
    "sc.pp.neighbors(adata_merged, n_pcs=30)\n",
    "sc.tl.umap(adata_merged)"
   ]
  },
  {
   "cell_type": "code",
   "execution_count": null,
   "id": "9a77d80a-9545-4d4a-90dc-f861e9e8ec1e",
   "metadata": {
    "collapsed": true,
    "execution": {
     "iopub.execute_input": "2023-11-01T12:46:21.631861Z",
     "iopub.status.busy": "2023-11-01T12:46:21.631420Z",
     "iopub.status.idle": "2023-11-01T12:46:31.724537Z",
     "shell.execute_reply": "2023-11-01T12:46:31.724101Z",
     "shell.execute_reply.started": "2023-11-01T12:46:21.631836Z"
    },
    "jupyter": {
     "outputs_hidden": true
    },
    "tags": []
   },
   "outputs": [],
   "source": [
    "sc.set_figure_params(dpi=300)\n",
    "fig = sc.pl.umap(adata_merged, color=['celltype', 'study'],return_fig=True,legend_fontsize='xx-small',ncols=1)\n",
    "fig.set_size_inches(8, 8)\n",
    "fig.savefig(\"Integration_results_COVID/Raw.results.png\", bbox_inches='tight')"
   ]
  },
  {
   "cell_type": "code",
   "execution_count": 11,
   "id": "c8fed048-62e9-494c-bffe-de6d37b40006",
   "metadata": {
    "execution": {
     "iopub.execute_input": "2023-11-01T12:37:56.187800Z",
     "iopub.status.busy": "2023-11-01T12:37:56.187378Z",
     "iopub.status.idle": "2023-11-01T12:38:02.022999Z",
     "shell.execute_reply": "2023-11-01T12:38:02.021965Z",
     "shell.execute_reply.started": "2023-11-01T12:37:56.187767Z"
    },
    "tags": []
   },
   "outputs": [],
   "source": [
    "adata_merged.write_h5ad(\"/nfs/public/cell_gpt_data/Intergation_COVID/Results/merged_result.h5ad\")"
   ]
  },
  {
   "cell_type": "markdown",
   "id": "4584c163-4bb2-4d57-9161-52fd412828b1",
   "metadata": {
    "execution": {
     "iopub.execute_input": "2023-10-30T08:25:44.474756Z",
     "iopub.status.busy": "2023-10-30T08:25:44.474169Z",
     "iopub.status.idle": "2023-10-30T08:25:44.478890Z",
     "shell.execute_reply": "2023-10-30T08:25:44.478331Z",
     "shell.execute_reply.started": "2023-10-30T08:25:44.474710Z"
    },
    "tags": []
   },
   "source": [
    "# BBKNN"
   ]
  },
  {
   "cell_type": "code",
   "execution_count": 4,
   "id": "150cbfa7-8a2a-4559-b374-0351c931cb8b",
   "metadata": {
    "execution": {
     "iopub.execute_input": "2023-11-07T07:10:01.378471Z",
     "iopub.status.busy": "2023-11-07T07:10:01.377792Z",
     "iopub.status.idle": "2023-11-07T07:10:06.147398Z",
     "shell.execute_reply": "2023-11-07T07:10:06.145949Z",
     "shell.execute_reply.started": "2023-11-07T07:10:01.378410Z"
    },
    "tags": []
   },
   "outputs": [],
   "source": [
    "adata_BBKNN = sc.read_h5ad(\"/nfs/public/cell_gpt_data/Intergation_COVID/Results/raw.h5ad\")"
   ]
  },
  {
   "cell_type": "code",
   "execution_count": 6,
   "id": "bb178af4-67bd-4527-94ca-268f85d958db",
   "metadata": {
    "execution": {
     "iopub.execute_input": "2023-11-07T07:11:07.105864Z",
     "iopub.status.busy": "2023-11-07T07:11:07.105093Z",
     "iopub.status.idle": "2023-11-07T07:11:07.110979Z",
     "shell.execute_reply": "2023-11-07T07:11:07.109985Z",
     "shell.execute_reply.started": "2023-11-07T07:11:07.105803Z"
    },
    "tags": []
   },
   "outputs": [],
   "source": [
    "import time"
   ]
  },
  {
   "cell_type": "code",
   "execution_count": 7,
   "id": "0c0770cf-5e29-4a94-833d-5bbdcd514d1c",
   "metadata": {
    "collapsed": true,
    "execution": {
     "iopub.execute_input": "2023-11-07T07:11:08.182112Z",
     "iopub.status.busy": "2023-11-07T07:11:08.181012Z",
     "iopub.status.idle": "2023-11-07T07:16:54.517506Z",
     "shell.execute_reply": "2023-11-07T07:16:54.516570Z",
     "shell.execute_reply.started": "2023-11-07T07:11:08.182052Z"
    },
    "jupyter": {
     "outputs_hidden": true
    },
    "tags": []
   },
   "outputs": [
    {
     "name": "stderr",
     "output_type": "stream",
     "text": [
      "/data1/chenyx/anaconda3/envs/sc_R4_Py/lib/python3.9/site-packages/umap/distances.py:1063: NumbaDeprecationWarning: The 'nopython' keyword argument was not supplied to the 'numba.jit' decorator. The implicit default value for this argument is currently False, but it will be changed to True in Numba 0.59.0. See https://numba.readthedocs.io/en/stable/reference/deprecation.html#deprecation-of-object-mode-fall-back-behaviour-when-using-jit for details.\n",
      "  @numba.jit()\n",
      "/data1/chenyx/anaconda3/envs/sc_R4_Py/lib/python3.9/site-packages/umap/distances.py:1071: NumbaDeprecationWarning: The 'nopython' keyword argument was not supplied to the 'numba.jit' decorator. The implicit default value for this argument is currently False, but it will be changed to True in Numba 0.59.0. See https://numba.readthedocs.io/en/stable/reference/deprecation.html#deprecation-of-object-mode-fall-back-behaviour-when-using-jit for details.\n",
      "  @numba.jit()\n",
      "/data1/chenyx/anaconda3/envs/sc_R4_Py/lib/python3.9/site-packages/umap/distances.py:1086: NumbaDeprecationWarning: The 'nopython' keyword argument was not supplied to the 'numba.jit' decorator. The implicit default value for this argument is currently False, but it will be changed to True in Numba 0.59.0. See https://numba.readthedocs.io/en/stable/reference/deprecation.html#deprecation-of-object-mode-fall-back-behaviour-when-using-jit for details.\n",
      "  @numba.jit()\n",
      "/data1/chenyx/anaconda3/envs/sc_R4_Py/lib/python3.9/site-packages/umap/umap_.py:660: NumbaDeprecationWarning: The 'nopython' keyword argument was not supplied to the 'numba.jit' decorator. The implicit default value for this argument is currently False, but it will be changed to True in Numba 0.59.0. See https://numba.readthedocs.io/en/stable/reference/deprecation.html#deprecation-of-object-mode-fall-back-behaviour-when-using-jit for details.\n",
      "  @numba.jit()\n",
      "2023-11-07 15:11:38.997693: I tensorflow/core/util/util.cc:169] oneDNN custom operations are on. You may see slightly different numerical results due to floating-point round-off errors from different computation orders. To turn them off, set the environment variable `TF_ENABLE_ONEDNN_OPTS=0`.\n",
      "/data1/chenyx/anaconda3/envs/sc_R4_Py/lib/python3.9/site-packages/bbknn/__init__.py:294: FutureWarning: This location for 'distances' is deprecated. It has been moved to .obsp[distances], and will not be accesible here in a future version of anndata.\n",
      "  adata.uns['neighbors']['distances'] = bbknn_out[0]\n",
      "/data1/chenyx/anaconda3/envs/sc_R4_Py/lib/python3.9/site-packages/bbknn/__init__.py:295: FutureWarning: This location for 'connectivities' is deprecated. It has been moved to .obsp[connectivities], and will not be accesible here in a future version of anndata.\n",
      "  adata.uns['neighbors']['connectivities'] = bbknn_out[1]\n"
     ]
    }
   ],
   "source": [
    "start_time = time.time()\n",
    "# PCA\n",
    "sc.tl.pca(adata_BBKNN, svd_solver='arpack')\n",
    "\n",
    "import bbknn\n",
    "bbknn.bbknn(adata_BBKNN, batch_key='study')\n",
    "\n",
    "sc.tl.umap(adata_BBKNN)\n",
    "end_time = time.time()"
   ]
  },
  {
   "cell_type": "code",
   "execution_count": 8,
   "id": "6a09ea26-2bfd-4139-a6b0-f2b091cf1f89",
   "metadata": {
    "execution": {
     "iopub.execute_input": "2023-11-07T07:16:54.519558Z",
     "iopub.status.busy": "2023-11-07T07:16:54.518857Z",
     "iopub.status.idle": "2023-11-07T07:16:54.526191Z",
     "shell.execute_reply": "2023-11-07T07:16:54.525719Z",
     "shell.execute_reply.started": "2023-11-07T07:16:54.519537Z"
    }
   },
   "outputs": [
    {
     "name": "stdout",
     "output_type": "stream",
     "text": [
      "346.32843589782715\n"
     ]
    }
   ],
   "source": [
    "print(end_time-start_time)"
   ]
  },
  {
   "cell_type": "code",
   "execution_count": null,
   "id": "5261078b-f1a1-4a7e-a531-2ecb403928d8",
   "metadata": {
    "collapsed": true,
    "execution": {
     "iopub.execute_input": "2023-11-01T12:46:47.537378Z",
     "iopub.status.busy": "2023-11-01T12:46:47.536995Z",
     "iopub.status.idle": "2023-11-01T12:46:56.393292Z",
     "shell.execute_reply": "2023-11-01T12:46:56.392567Z",
     "shell.execute_reply.started": "2023-11-01T12:46:47.537353Z"
    },
    "jupyter": {
     "outputs_hidden": true
    },
    "tags": []
   },
   "outputs": [],
   "source": [
    "sc.set_figure_params(dpi=300)\n",
    "fig = sc.pl.umap(adata_BBKNN, color=['celltype', 'study'],return_fig=True,legend_fontsize='xx-small',ncols=1)\n",
    "fig.set_size_inches(8, 8)\n",
    "fig.savefig(\"Integration_results_COVID/BBKNN.results.png\", bbox_inches='tight')"
   ]
  },
  {
   "cell_type": "code",
   "execution_count": 21,
   "id": "a70c1a42-6312-4ae5-9a3d-a79c00a527d9",
   "metadata": {
    "execution": {
     "iopub.execute_input": "2023-11-01T12:51:05.615815Z",
     "iopub.status.busy": "2023-11-01T12:51:05.615525Z",
     "iopub.status.idle": "2023-11-01T12:51:13.556965Z",
     "shell.execute_reply": "2023-11-01T12:51:13.556398Z",
     "shell.execute_reply.started": "2023-11-01T12:51:05.615793Z"
    },
    "tags": []
   },
   "outputs": [],
   "source": [
    "adata_BBKNN.write_h5ad(\"/nfs/public/cell_gpt_data/Intergation_COVID/Results/BBKNN_result.h5ad\")"
   ]
  },
  {
   "cell_type": "markdown",
   "id": "dfae561b-950a-4992-acf1-50298922d4c2",
   "metadata": {
    "tags": []
   },
   "source": [
    "# harmony"
   ]
  },
  {
   "cell_type": "code",
   "execution_count": 9,
   "id": "fdcf5a47-7024-475b-a568-d89d008a3f08",
   "metadata": {
    "execution": {
     "iopub.execute_input": "2023-11-07T07:20:10.252056Z",
     "iopub.status.busy": "2023-11-07T07:20:10.250366Z",
     "iopub.status.idle": "2023-11-07T07:20:10.257411Z",
     "shell.execute_reply": "2023-11-07T07:20:10.256257Z",
     "shell.execute_reply.started": "2023-11-07T07:20:10.251972Z"
    },
    "tags": []
   },
   "outputs": [],
   "source": [
    "import scanpy.external as sce"
   ]
  },
  {
   "cell_type": "code",
   "execution_count": 10,
   "id": "80ec90cc-7ba6-463e-9e80-a70bcf2fe5f8",
   "metadata": {
    "execution": {
     "iopub.execute_input": "2023-11-07T07:20:11.830439Z",
     "iopub.status.busy": "2023-11-07T07:20:11.829752Z",
     "iopub.status.idle": "2023-11-07T07:20:16.820823Z",
     "shell.execute_reply": "2023-11-07T07:20:16.819277Z",
     "shell.execute_reply.started": "2023-11-07T07:20:11.830378Z"
    },
    "tags": []
   },
   "outputs": [],
   "source": [
    "adata_harmony = sc.read_h5ad(\"/nfs/public/cell_gpt_data/Intergation_COVID//Results/raw.h5ad\")"
   ]
  },
  {
   "cell_type": "code",
   "execution_count": 11,
   "id": "b0f66341-fdae-4d24-a51a-c468309d0208",
   "metadata": {
    "execution": {
     "iopub.execute_input": "2023-11-07T07:20:16.822104Z",
     "iopub.status.busy": "2023-11-07T07:20:16.821852Z",
     "iopub.status.idle": "2023-11-07T07:32:34.567199Z",
     "shell.execute_reply": "2023-11-07T07:32:34.566479Z",
     "shell.execute_reply.started": "2023-11-07T07:20:16.822079Z"
    },
    "tags": []
   },
   "outputs": [
    {
     "name": "stderr",
     "output_type": "stream",
     "text": [
      "2023-11-07 15:21:32,896 - harmonypy - INFO - Iteration 1 of 10\n",
      "2023-11-07 15:23:07,691 - harmonypy - INFO - Iteration 2 of 10\n",
      "2023-11-07 15:24:39,647 - harmonypy - INFO - Iteration 3 of 10\n",
      "2023-11-07 15:26:07,789 - harmonypy - INFO - Iteration 4 of 10\n",
      "2023-11-07 15:27:34,584 - harmonypy - INFO - Iteration 5 of 10\n",
      "2023-11-07 15:29:02,775 - harmonypy - INFO - Converged after 5 iterations\n"
     ]
    }
   ],
   "source": [
    "start_time = time.time()\n",
    "\n",
    "# PCA\n",
    "sc.tl.pca(adata_harmony, svd_solver='arpack')\n",
    "# harmony\n",
    "sce.pp.harmony_integrate(adata_harmony, 'study')\n",
    "\n",
    "sc.pp.neighbors(adata_harmony, use_rep='X_pca_harmony')\n",
    "sc.tl.umap(adata_harmony)\n",
    "\n",
    "end_time = time.time()"
   ]
  },
  {
   "cell_type": "code",
   "execution_count": 12,
   "id": "d311f624-6848-4c35-9df2-ecf5399e010c",
   "metadata": {
    "execution": {
     "iopub.execute_input": "2023-11-07T07:32:34.568606Z",
     "iopub.status.busy": "2023-11-07T07:32:34.568396Z",
     "iopub.status.idle": "2023-11-07T07:32:34.574911Z",
     "shell.execute_reply": "2023-11-07T07:32:34.574432Z",
     "shell.execute_reply.started": "2023-11-07T07:32:34.568585Z"
    },
    "tags": []
   },
   "outputs": [
    {
     "data": {
      "text/plain": [
       "737.7404992580414"
      ]
     },
     "execution_count": 12,
     "metadata": {},
     "output_type": "execute_result"
    }
   ],
   "source": [
    "end_time-start_time"
   ]
  },
  {
   "cell_type": "code",
   "execution_count": null,
   "id": "6642a67a-6d48-411e-9f7a-9df478f1b94d",
   "metadata": {
    "collapsed": true,
    "execution": {
     "iopub.execute_input": "2023-11-01T13:37:59.788722Z",
     "iopub.status.busy": "2023-11-01T13:37:59.788539Z",
     "iopub.status.idle": "2023-11-01T13:38:06.354540Z",
     "shell.execute_reply": "2023-11-01T13:38:06.353947Z",
     "shell.execute_reply.started": "2023-11-01T13:37:59.788699Z"
    },
    "jupyter": {
     "outputs_hidden": true
    },
    "tags": []
   },
   "outputs": [],
   "source": [
    "sc.set_figure_params(dpi=300)\n",
    "fig = sc.pl.umap(adata_harmony, color=['celltype', 'study'],return_fig=True,legend_fontsize='xx-small',ncols=1)\n",
    "fig.set_size_inches(8, 8)\n",
    "fig.savefig(\"Integration_results_COVID/harmony.results.png\", bbox_inches='tight')"
   ]
  },
  {
   "cell_type": "code",
   "execution_count": 29,
   "id": "cc4ae971-e489-46d4-bdd3-bccd2914c941",
   "metadata": {
    "execution": {
     "iopub.execute_input": "2023-11-01T13:38:06.355375Z",
     "iopub.status.busy": "2023-11-01T13:38:06.355261Z",
     "iopub.status.idle": "2023-11-01T13:38:12.850662Z",
     "shell.execute_reply": "2023-11-01T13:38:12.849625Z",
     "shell.execute_reply.started": "2023-11-01T13:38:06.355360Z"
    },
    "tags": []
   },
   "outputs": [],
   "source": [
    "adata_harmony.write_h5ad(\"/nfs/public/cell_gpt_data/Intergation_COVID//Results/harmony.h5ad\")"
   ]
  },
  {
   "cell_type": "markdown",
   "id": "6c0caf8d-66a1-4563-b80d-a8cf79032297",
   "metadata": {
    "tags": []
   },
   "source": [
    "# scVI without Annotation"
   ]
  },
  {
   "cell_type": "code",
   "execution_count": 30,
   "id": "eeb932bd-2979-4f77-bf57-9ba0a63768e4",
   "metadata": {
    "execution": {
     "iopub.execute_input": "2023-11-01T13:39:47.827009Z",
     "iopub.status.busy": "2023-11-01T13:39:47.826045Z",
     "iopub.status.idle": "2023-11-01T13:39:56.622581Z",
     "shell.execute_reply": "2023-11-01T13:39:56.621996Z",
     "shell.execute_reply.started": "2023-11-01T13:39:47.826953Z"
    },
    "tags": []
   },
   "outputs": [
    {
     "name": "stderr",
     "output_type": "stream",
     "text": [
      "Global seed set to 0\n"
     ]
    }
   ],
   "source": [
    "import scvi"
   ]
  },
  {
   "cell_type": "code",
   "execution_count": 31,
   "id": "7e662cdd-815b-4ecd-ad75-29f04789414c",
   "metadata": {
    "execution": {
     "iopub.execute_input": "2023-11-01T13:39:56.623608Z",
     "iopub.status.busy": "2023-11-01T13:39:56.623490Z",
     "iopub.status.idle": "2023-11-01T13:40:25.090210Z",
     "shell.execute_reply": "2023-11-01T13:40:25.089592Z",
     "shell.execute_reply.started": "2023-11-01T13:39:56.623593Z"
    },
    "tags": []
   },
   "outputs": [],
   "source": [
    "adata_scVI = sc.read_h5ad(\"/nfs/public/cell_gpt_data/Intergation_COVID/raw_uniformed.h5ad\")\n",
    "adata_scVI = adata_scVI[:,pd.read_csv(\"../gene_list.csv\",index_col=0)['gene_name']]"
   ]
  },
  {
   "cell_type": "code",
   "execution_count": 40,
   "id": "286b8c84-277a-43c1-99e5-65b933f9b0f7",
   "metadata": {
    "execution": {
     "iopub.execute_input": "2023-11-01T13:43:01.362302Z",
     "iopub.status.busy": "2023-11-01T13:43:01.361811Z",
     "iopub.status.idle": "2023-11-01T13:43:03.016273Z",
     "shell.execute_reply": "2023-11-01T13:43:03.015637Z",
     "shell.execute_reply.started": "2023-11-01T13:43:01.362233Z"
    },
    "tags": []
   },
   "outputs": [],
   "source": [
    "adata_scVI = adata_scVI.copy()"
   ]
  },
  {
   "cell_type": "code",
   "execution_count": 41,
   "id": "1a481024-b4fb-4920-9d6c-5c06cdec6d9b",
   "metadata": {
    "execution": {
     "iopub.execute_input": "2023-11-01T13:43:06.857908Z",
     "iopub.status.busy": "2023-11-01T13:43:06.857108Z",
     "iopub.status.idle": "2023-11-01T13:43:06.876847Z",
     "shell.execute_reply": "2023-11-01T13:43:06.876305Z",
     "shell.execute_reply.started": "2023-11-01T13:43:06.857854Z"
    },
    "tags": []
   },
   "outputs": [],
   "source": [
    "scvi.model.SCVI.setup_anndata(adata_scVI, batch_key=\"study\")"
   ]
  },
  {
   "cell_type": "code",
   "execution_count": 42,
   "id": "eab279bc-33c1-4edf-a56d-07c34845a03c",
   "metadata": {
    "execution": {
     "iopub.execute_input": "2023-11-01T13:43:09.654380Z",
     "iopub.status.busy": "2023-11-01T13:43:09.653255Z",
     "iopub.status.idle": "2023-11-01T13:43:09.793147Z",
     "shell.execute_reply": "2023-11-01T13:43:09.792462Z",
     "shell.execute_reply.started": "2023-11-01T13:43:09.654324Z"
    },
    "tags": []
   },
   "outputs": [],
   "source": [
    "vae = scvi.model.SCVI(adata_scVI, n_layers=2, n_latent=30, gene_likelihood=\"nb\")"
   ]
  },
  {
   "cell_type": "code",
   "execution_count": 43,
   "id": "82debb73-6259-4208-a5c0-90a93c2cb193",
   "metadata": {
    "execution": {
     "iopub.execute_input": "2023-11-01T13:54:40.116882Z",
     "iopub.status.busy": "2023-11-01T13:54:40.116396Z",
     "iopub.status.idle": "2023-11-01T14:07:01.920290Z",
     "shell.execute_reply": "2023-11-01T14:07:01.919565Z",
     "shell.execute_reply.started": "2023-11-01T13:54:40.116828Z"
    },
    "tags": []
   },
   "outputs": [
    {
     "name": "stderr",
     "output_type": "stream",
     "text": [
      "GPU available: True, used: True\n",
      "TPU available: False, using: 0 TPU cores\n",
      "IPU available: False, using: 0 IPUs\n",
      "LOCAL_RANK: 0 - CUDA_VISIBLE_DEVICES: [0,1,2,3]\n"
     ]
    },
    {
     "name": "stdout",
     "output_type": "stream",
     "text": [
      "Epoch 29/29: 100%|██████████| 29/29 [12:15<00:00, 25.35s/it, loss=526, v_num=1]\n"
     ]
    }
   ],
   "source": [
    "vae.train(use_gpu=3)"
   ]
  },
  {
   "cell_type": "code",
   "execution_count": 44,
   "id": "8d6655c1-3984-444f-9a1d-6b1ed7315280",
   "metadata": {
    "execution": {
     "iopub.execute_input": "2023-11-01T14:08:25.060858Z",
     "iopub.status.busy": "2023-11-01T14:08:25.059702Z",
     "iopub.status.idle": "2023-11-01T14:08:28.783894Z",
     "shell.execute_reply": "2023-11-01T14:08:28.783007Z",
     "shell.execute_reply.started": "2023-11-01T14:08:25.060788Z"
    },
    "tags": []
   },
   "outputs": [],
   "source": [
    "adata_scVI.obsm[\"X_scVI\"] = vae.get_latent_representation()"
   ]
  },
  {
   "cell_type": "code",
   "execution_count": 46,
   "id": "466b8c86-2fa3-425c-b38a-0574a47d414b",
   "metadata": {
    "execution": {
     "iopub.execute_input": "2023-11-01T14:08:38.040000Z",
     "iopub.status.busy": "2023-11-01T14:08:38.039056Z",
     "iopub.status.idle": "2023-11-01T14:11:54.914375Z",
     "shell.execute_reply": "2023-11-01T14:11:54.913604Z",
     "shell.execute_reply.started": "2023-11-01T14:08:38.039946Z"
    },
    "tags": []
   },
   "outputs": [],
   "source": [
    "sc.pp.neighbors(adata_scVI, use_rep=\"X_scVI\")\n",
    "sc.tl.umap(adata_scVI)"
   ]
  },
  {
   "cell_type": "code",
   "execution_count": null,
   "id": "d8287957-4c46-4661-a56f-21b24c375f62",
   "metadata": {
    "collapsed": true,
    "execution": {
     "iopub.execute_input": "2023-11-01T14:11:54.917346Z",
     "iopub.status.busy": "2023-11-01T14:11:54.917193Z",
     "iopub.status.idle": "2023-11-01T14:12:01.550236Z",
     "shell.execute_reply": "2023-11-01T14:12:01.549588Z",
     "shell.execute_reply.started": "2023-11-01T14:11:54.917328Z"
    },
    "jupyter": {
     "outputs_hidden": true
    },
    "tags": []
   },
   "outputs": [],
   "source": [
    "sc.set_figure_params(dpi=300)\n",
    "fig = sc.pl.umap(adata_scVI, color=['celltype', 'study'],return_fig=True,legend_fontsize='xx-small',ncols=1)\n",
    "fig.set_size_inches(8, 8)\n",
    "fig.savefig(\"Integration_results_COVID/scVI.results.png\", bbox_inches='tight')"
   ]
  },
  {
   "cell_type": "code",
   "execution_count": 48,
   "id": "abf49452-5e3f-4bd2-a91e-45b9deb8710d",
   "metadata": {
    "execution": {
     "iopub.execute_input": "2023-11-01T14:12:01.551056Z",
     "iopub.status.busy": "2023-11-01T14:12:01.550946Z",
     "iopub.status.idle": "2023-11-01T14:12:06.988829Z",
     "shell.execute_reply": "2023-11-01T14:12:06.988029Z",
     "shell.execute_reply.started": "2023-11-01T14:12:01.551042Z"
    },
    "tags": []
   },
   "outputs": [],
   "source": [
    "adata_scVI.write_h5ad(\"/nfs/public/cell_gpt_data/Intergation_COVID//Results/scVI.h5ad\")"
   ]
  },
  {
   "cell_type": "code",
   "execution_count": 45,
   "id": "f4cb1c7d-2000-40e1-9ff1-bc67285278b4",
   "metadata": {
    "execution": {
     "iopub.execute_input": "2023-11-01T14:08:29.374654Z",
     "iopub.status.busy": "2023-11-01T14:08:29.374067Z",
     "iopub.status.idle": "2023-11-01T14:08:29.475181Z",
     "shell.execute_reply": "2023-11-01T14:08:29.474550Z",
     "shell.execute_reply.started": "2023-11-01T14:08:29.374600Z"
    },
    "tags": []
   },
   "outputs": [],
   "source": [
    "vae.save(\"/nfs/public/cell_gpt_data/Intergation_COVID//Results/scVI_model.pt\")"
   ]
  },
  {
   "cell_type": "markdown",
   "id": "93d96a58-3714-4388-8154-bbdbde354cdc",
   "metadata": {},
   "source": [
    "# scANVI"
   ]
  },
  {
   "cell_type": "code",
   "execution_count": 50,
   "id": "03c7be4a-e6ff-466e-a932-aa22c1de1d13",
   "metadata": {
    "execution": {
     "iopub.execute_input": "2023-11-01T14:15:08.763257Z",
     "iopub.status.busy": "2023-11-01T14:15:08.762272Z",
     "iopub.status.idle": "2023-11-01T14:15:09.698074Z",
     "shell.execute_reply": "2023-11-01T14:15:09.697362Z",
     "shell.execute_reply.started": "2023-11-01T14:15:08.763204Z"
    },
    "tags": []
   },
   "outputs": [],
   "source": [
    "scanvi_model = scvi.model.SCANVI.from_scvi_model(\n",
    "    vae,\n",
    "    adata=adata_scVI,\n",
    "    labels_key=\"celltype\",\n",
    "    unlabeled_category=\"Unclassified\",\n",
    ")"
   ]
  },
  {
   "cell_type": "code",
   "execution_count": 51,
   "id": "3f418743-3a88-4b5b-a816-dbb186bd3c75",
   "metadata": {
    "execution": {
     "iopub.execute_input": "2023-11-01T14:37:03.597224Z",
     "iopub.status.busy": "2023-11-01T14:37:03.596751Z",
     "iopub.status.idle": "2023-11-01T14:55:19.778684Z",
     "shell.execute_reply": "2023-11-01T14:55:19.778169Z",
     "shell.execute_reply.started": "2023-11-01T14:37:03.597171Z"
    },
    "tags": []
   },
   "outputs": [
    {
     "name": "stdout",
     "output_type": "stream",
     "text": [
      "\u001b[34mINFO    \u001b[0m Training for \u001b[1;36m20\u001b[0m epochs.                                                             \n"
     ]
    },
    {
     "name": "stderr",
     "output_type": "stream",
     "text": [
      "GPU available: True, used: True\n",
      "TPU available: False, using: 0 TPU cores\n",
      "IPU available: False, using: 0 IPUs\n",
      "LOCAL_RANK: 0 - CUDA_VISIBLE_DEVICES: [0,1,2,3]\n"
     ]
    },
    {
     "name": "stdout",
     "output_type": "stream",
     "text": [
      "Epoch 20/20: 100%|██████████| 20/20 [18:15<00:00, 54.76s/it, loss=642, v_num=1]\n"
     ]
    }
   ],
   "source": [
    "scanvi_model.train(max_epochs=20, n_samples_per_label=100,use_gpu=3)"
   ]
  },
  {
   "cell_type": "code",
   "execution_count": 52,
   "id": "ee9787a8-f540-45a8-b9c5-f12ca3953165",
   "metadata": {
    "execution": {
     "iopub.execute_input": "2023-11-01T15:03:33.215016Z",
     "iopub.status.busy": "2023-11-01T15:03:33.214268Z",
     "iopub.status.idle": "2023-11-01T15:03:56.420989Z",
     "shell.execute_reply": "2023-11-01T15:03:56.420271Z",
     "shell.execute_reply.started": "2023-11-01T15:03:33.214953Z"
    },
    "tags": []
   },
   "outputs": [],
   "source": [
    "adata_scVI.obsm[\"X_scANVI\"] = scanvi_model.get_latent_representation(adata_scVI)\n",
    "adata_scVI.obsm[\"X_scANVI_MDE\"] = scvi.model.utils.mde(adata_scVI.obsm[\"X_scANVI\"])"
   ]
  },
  {
   "cell_type": "code",
   "execution_count": 54,
   "id": "7177713b-cbb4-446f-bd9b-3b35adf37a3b",
   "metadata": {
    "execution": {
     "iopub.execute_input": "2023-11-01T15:04:03.064408Z",
     "iopub.status.busy": "2023-11-01T15:04:03.064306Z",
     "iopub.status.idle": "2023-11-01T15:04:08.834073Z",
     "shell.execute_reply": "2023-11-01T15:04:08.833443Z",
     "shell.execute_reply.started": "2023-11-01T15:04:03.064395Z"
    },
    "tags": []
   },
   "outputs": [],
   "source": [
    "adata_scVI.write_h5ad(\"/nfs/public/cell_gpt_data/Intergation_COVID//Results/scANVI.h5ad\")"
   ]
  },
  {
   "cell_type": "code",
   "execution_count": null,
   "id": "963b9fc4-7378-4d39-9be0-a44e0ee95d53",
   "metadata": {},
   "outputs": [],
   "source": []
  },
  {
   "cell_type": "markdown",
   "id": "396d922b-eecc-41ef-9100-e49d51e6d36b",
   "metadata": {},
   "source": [
    "# Seurat integrated"
   ]
  },
  {
   "cell_type": "code",
   "execution_count": 55,
   "id": "81992ee1-f7a1-4264-b9f4-5744e906d4c6",
   "metadata": {
    "execution": {
     "iopub.execute_input": "2023-11-02T05:19:42.273311Z",
     "iopub.status.busy": "2023-11-02T05:19:42.272032Z",
     "iopub.status.idle": "2023-11-02T05:20:22.577373Z",
     "shell.execute_reply": "2023-11-02T05:20:22.575445Z",
     "shell.execute_reply.started": "2023-11-02T05:19:42.273236Z"
    },
    "tags": []
   },
   "outputs": [],
   "source": [
    "adata_seurat = sc.read_h5ad(\"/nfs/public/cell_gpt_data/Intergation_COVID//Results/Seurat_result.h5ad\")"
   ]
  },
  {
   "cell_type": "code",
   "execution_count": 56,
   "id": "2a9f23bd-1293-46df-82f1-d1b6b2531d63",
   "metadata": {
    "execution": {
     "iopub.execute_input": "2023-11-02T05:20:22.583513Z",
     "iopub.status.busy": "2023-11-02T05:20:22.582937Z",
     "iopub.status.idle": "2023-11-02T05:20:22.592364Z",
     "shell.execute_reply": "2023-11-02T05:20:22.591668Z",
     "shell.execute_reply.started": "2023-11-02T05:20:22.583448Z"
    },
    "tags": []
   },
   "outputs": [
    {
     "data": {
      "text/plain": [
       "AnnData object with n_obs × n_vars = 274346 × 2000\n",
       "    obs: 'orig.ident', 'nCount_RNA', 'nFeature_RNA', 'age', 'age_range', 'anatomical_region', 'anatomical_region_detailed', 'batch', 'dataset', 'disease', 'donor', 'ethnicity', 'ethnicity_mixed', 'last_author.PI', 'lung_vs_nasal', 'original_celltype_ann', 'pack_years', 'sample', 'sample_alias', 'sample_type', 'sampling_method', 'sex', 'smoking', 'total_counts', 'log10_total_counts', 'n_genes_detected', 'mito_frac', 'ribo_frac', 'compl', 'ann_level_1', 'ann_level_2', 'ann_level_3', 'ann_level_4', 'ann_level_5', 'ann_highest_res', 'ann_new', 'subject_type', 'study', 'study2', 'celltype', 'condition', 'cellnames', 'cluster', 'stage', 'ID', 'sample_new', 'chemistry', 'data_type', 'dpt_pseudotime', 'final_annotation', 'mt_frac', 'n_counts', 'n_genes', 'sample_ID', 'size_factors', 'species', 'tissue'\n",
       "    var: 'gene_name'"
      ]
     },
     "execution_count": 56,
     "metadata": {},
     "output_type": "execute_result"
    }
   ],
   "source": [
    "adata_seurat"
   ]
  },
  {
   "cell_type": "code",
   "execution_count": 57,
   "id": "07419820-2159-4611-97b6-bf50730cb308",
   "metadata": {
    "execution": {
     "iopub.execute_input": "2023-11-02T05:20:22.593326Z",
     "iopub.status.busy": "2023-11-02T05:20:22.593180Z",
     "iopub.status.idle": "2023-11-02T05:24:02.351384Z",
     "shell.execute_reply": "2023-11-02T05:24:02.350389Z",
     "shell.execute_reply.started": "2023-11-02T05:20:22.593308Z"
    },
    "tags": []
   },
   "outputs": [],
   "source": [
    "sc.pp.pca(adata_seurat)"
   ]
  },
  {
   "cell_type": "code",
   "execution_count": null,
   "id": "0cc19297-33ba-4ba1-9e5c-d5410bb47613",
   "metadata": {
    "collapsed": true,
    "execution": {
     "iopub.execute_input": "2023-11-02T05:24:02.353815Z",
     "iopub.status.busy": "2023-11-02T05:24:02.353655Z",
     "iopub.status.idle": "2023-11-02T05:24:02.724598Z",
     "shell.execute_reply": "2023-11-02T05:24:02.723905Z",
     "shell.execute_reply.started": "2023-11-02T05:24:02.353797Z"
    },
    "jupyter": {
     "outputs_hidden": true
    },
    "tags": []
   },
   "outputs": [],
   "source": [
    "sc.pl.pca_variance_ratio(adata_seurat)"
   ]
  },
  {
   "cell_type": "code",
   "execution_count": 59,
   "id": "8e4742fe-5d56-4f49-a363-089e5f01cdc1",
   "metadata": {
    "execution": {
     "iopub.execute_input": "2023-11-02T05:25:02.041268Z",
     "iopub.status.busy": "2023-11-02T05:25:02.040487Z",
     "iopub.status.idle": "2023-11-02T05:28:23.675775Z",
     "shell.execute_reply": "2023-11-02T05:28:23.674725Z",
     "shell.execute_reply.started": "2023-11-02T05:25:02.041218Z"
    },
    "tags": []
   },
   "outputs": [],
   "source": [
    "sc.pp.neighbors(adata_seurat,n_pcs=10)\n",
    "sc.tl.umap(adata_seurat)"
   ]
  },
  {
   "cell_type": "code",
   "execution_count": null,
   "id": "e39d83a9-41e2-444e-82c0-df8be40d4569",
   "metadata": {
    "collapsed": true,
    "execution": {
     "iopub.execute_input": "2023-11-02T05:28:23.677873Z",
     "iopub.status.busy": "2023-11-02T05:28:23.677594Z",
     "iopub.status.idle": "2023-11-02T05:28:30.865286Z",
     "shell.execute_reply": "2023-11-02T05:28:30.864538Z",
     "shell.execute_reply.started": "2023-11-02T05:28:23.677851Z"
    },
    "jupyter": {
     "outputs_hidden": true
    },
    "tags": []
   },
   "outputs": [],
   "source": [
    "sc.set_figure_params(dpi=300)\n",
    "fig = sc.pl.umap(\n",
    "    adata_seurat,  color=['celltype', 'study'],return_fig=True,legend_fontsize='xx-small',ncols=1)\n",
    "fig.set_size_inches(8, 8)\n",
    "fig.savefig(\"Integration_results_COVID/Seurat.results.png\", bbox_inches='tight')"
   ]
  },
  {
   "cell_type": "code",
   "execution_count": 68,
   "id": "55133197-f51b-4655-a798-0682d8536bd9",
   "metadata": {
    "execution": {
     "iopub.execute_input": "2023-11-02T05:37:51.137610Z",
     "iopub.status.busy": "2023-11-02T05:37:51.137075Z",
     "iopub.status.idle": "2023-11-02T05:38:36.226846Z",
     "shell.execute_reply": "2023-11-02T05:38:36.225656Z",
     "shell.execute_reply.started": "2023-11-02T05:37:51.137559Z"
    },
    "tags": []
   },
   "outputs": [],
   "source": [
    "adata_seurat.write_h5ad(\"/nfs/public/cell_gpt_data/Intergation_COVID//Results/Seurat_result.h5ad\")"
   ]
  },
  {
   "cell_type": "markdown",
   "id": "a1cfcf0d-715e-4fb4-acc1-bdb82dbad07f",
   "metadata": {
    "tags": []
   },
   "source": [
    "# FastMNN"
   ]
  },
  {
   "cell_type": "code",
   "execution_count": 61,
   "id": "d24a0af8-b873-4a70-9b12-bbe3412fd770",
   "metadata": {
    "execution": {
     "iopub.execute_input": "2023-11-02T05:28:30.866419Z",
     "iopub.status.busy": "2023-11-02T05:28:30.866157Z",
     "iopub.status.idle": "2023-11-02T05:29:32.803557Z",
     "shell.execute_reply": "2023-11-02T05:29:32.802778Z",
     "shell.execute_reply.started": "2023-11-02T05:28:30.866402Z"
    },
    "tags": []
   },
   "outputs": [],
   "source": [
    "adata_fastmnn = sc.read_h5ad(\"/nfs/public/cell_gpt_data/Intergation_COVID//Results/FastMNN_result.h5ad\")"
   ]
  },
  {
   "cell_type": "code",
   "execution_count": 62,
   "id": "45812ced-480d-4e7b-abd2-2c03bcb9de2c",
   "metadata": {
    "execution": {
     "iopub.execute_input": "2023-11-02T05:29:32.805023Z",
     "iopub.status.busy": "2023-11-02T05:29:32.804865Z",
     "iopub.status.idle": "2023-11-02T05:29:32.809803Z",
     "shell.execute_reply": "2023-11-02T05:29:32.809211Z",
     "shell.execute_reply.started": "2023-11-02T05:29:32.805004Z"
    },
    "tags": []
   },
   "outputs": [
    {
     "data": {
      "text/plain": [
       "AnnData object with n_obs × n_vars = 274346 × 1961\n",
       "    obs: 'orig.ident', 'nCount_RNA', 'nFeature_RNA', 'age', 'age_range', 'anatomical_region', 'anatomical_region_detailed', 'batch', 'dataset', 'disease', 'donor', 'ethnicity', 'ethnicity_mixed', 'last_author.PI', 'lung_vs_nasal', 'original_celltype_ann', 'pack_years', 'sample', 'sample_alias', 'sample_type', 'sampling_method', 'sex', 'smoking', 'total_counts', 'log10_total_counts', 'n_genes_detected', 'mito_frac', 'ribo_frac', 'compl', 'ann_level_1', 'ann_level_2', 'ann_level_3', 'ann_level_4', 'ann_level_5', 'ann_highest_res', 'ann_new', 'subject_type', 'study', 'study2', 'celltype', 'condition', 'cellnames', 'cluster', 'stage', 'ID', 'sample_new', 'chemistry', 'data_type', 'dpt_pseudotime', 'final_annotation', 'mt_frac', 'n_counts', 'n_genes', 'sample_ID', 'size_factors', 'species', 'tissue'\n",
       "    var: 'gene_name'"
      ]
     },
     "execution_count": 62,
     "metadata": {},
     "output_type": "execute_result"
    }
   ],
   "source": [
    "adata_fastmnn"
   ]
  },
  {
   "cell_type": "code",
   "execution_count": 63,
   "id": "bf855a6f-1cdc-48f1-8632-5c1247cca2eb",
   "metadata": {
    "execution": {
     "iopub.execute_input": "2023-11-02T05:29:32.810595Z",
     "iopub.status.busy": "2023-11-02T05:29:32.810465Z",
     "iopub.status.idle": "2023-11-02T05:32:17.164536Z",
     "shell.execute_reply": "2023-11-02T05:32:17.163461Z",
     "shell.execute_reply.started": "2023-11-02T05:29:32.810578Z"
    },
    "tags": []
   },
   "outputs": [],
   "source": [
    "sc.pp.pca(adata_fastmnn)"
   ]
  },
  {
   "cell_type": "code",
   "execution_count": 64,
   "id": "d465d144-387d-4cdd-b614-5433357669f2",
   "metadata": {
    "collapsed": true,
    "execution": {
     "iopub.execute_input": "2023-11-02T05:32:17.166045Z",
     "iopub.status.busy": "2023-11-02T05:32:17.165888Z",
     "iopub.status.idle": "2023-11-02T05:32:17.706237Z",
     "shell.execute_reply": "2023-11-02T05:32:17.705467Z",
     "shell.execute_reply.started": "2023-11-02T05:32:17.166029Z"
    },
    "jupyter": {
     "outputs_hidden": true
    },
    "tags": []
   },
   "outputs": [
    {
     "data": {
      "image/png": "[encoded data removed]",
      "text/plain": [
       "<Figure size 1200x1200 with 1 Axes>"
      ]
     },
     "metadata": {
      "image/png": {
       "height": 1214,
       "width": 1177
      },
      "needs_background": "light"
     },
     "output_type": "display_data"
    }
   ],
   "source": [
    "sc.pl.pca_variance_ratio(adata_fastmnn)"
   ]
  },
  {
   "cell_type": "code",
   "execution_count": 65,
   "id": "4d84880c-e214-4eab-9254-3bd1e4b2076c",
   "metadata": {
    "execution": {
     "iopub.execute_input": "2023-11-02T05:32:54.338910Z",
     "iopub.status.busy": "2023-11-02T05:32:54.337905Z",
     "iopub.status.idle": "2023-11-02T05:36:14.992008Z",
     "shell.execute_reply": "2023-11-02T05:36:14.989574Z",
     "shell.execute_reply.started": "2023-11-02T05:32:54.338853Z"
    },
    "tags": []
   },
   "outputs": [],
   "source": [
    "sc.pp.neighbors(adata_fastmnn,n_pcs=10)\n",
    "sc.tl.umap(adata_fastmnn)"
   ]
  },
  {
   "cell_type": "code",
   "execution_count": null,
   "id": "dd06491c-4cd3-4941-9568-9ea6f32714ef",
   "metadata": {
    "execution": {
     "iopub.execute_input": "2023-11-02T05:36:14.994857Z",
     "iopub.status.busy": "2023-11-02T05:36:14.994411Z",
     "iopub.status.idle": "2023-11-02T05:36:22.686452Z",
     "shell.execute_reply": "2023-11-02T05:36:22.685755Z",
     "shell.execute_reply.started": "2023-11-02T05:36:14.994835Z"
    },
    "tags": []
   },
   "outputs": [],
   "source": [
    "sc.set_figure_params(dpi=300)\n",
    "fig = sc.pl.umap(\n",
    "    adata_fastmnn,  color=['celltype', 'study'],return_fig=True,legend_fontsize='xx-small',ncols=1)\n",
    "fig.set_size_inches(8, 8)\n",
    "fig.savefig(\"Integration_results_COVID/FastMNN.results.png\", bbox_inches='tight')"
   ]
  },
  {
   "cell_type": "code",
   "execution_count": 67,
   "id": "d097091b-eef1-4830-8501-0401d80553d0",
   "metadata": {
    "execution": {
     "iopub.execute_input": "2023-11-02T05:36:22.687408Z",
     "iopub.status.busy": "2023-11-02T05:36:22.687300Z",
     "iopub.status.idle": "2023-11-02T05:37:51.134423Z",
     "shell.execute_reply": "2023-11-02T05:37:51.133237Z",
     "shell.execute_reply.started": "2023-11-02T05:36:22.687394Z"
    },
    "tags": []
   },
   "outputs": [],
   "source": [
    "adata_fastmnn.write_h5ad(\"/nfs/public/cell_gpt_data/Intergation_COVID//Results/FastMNN_result.h5ad\")"
   ]
  },
  {
   "cell_type": "markdown",
   "id": "0fc62b04-f54f-453c-918f-9d9f5add08d6",
   "metadata": {
    "tags": []
   },
   "source": [
    "# Assess"
   ]
  },
  {
   "cell_type": "code",
   "execution_count": 69,
   "id": "c22ae5a1-6c9c-4d74-a5fe-90b6d3dee4ee",
   "metadata": {
    "execution": {
     "iopub.execute_input": "2023-11-02T05:51:50.292460Z",
     "iopub.status.busy": "2023-11-02T05:51:50.291887Z",
     "iopub.status.idle": "2023-11-02T05:51:56.236151Z",
     "shell.execute_reply": "2023-11-02T05:51:56.235260Z",
     "shell.execute_reply.started": "2023-11-02T05:51:50.292408Z"
    },
    "tags": []
   },
   "outputs": [],
   "source": [
    "adata_all = sc.read_h5ad(\"/nfs/public/cell_gpt_data/Intergation_COVID//Results/scANVI.h5ad\")"
   ]
  },
  {
   "cell_type": "code",
   "execution_count": 70,
   "id": "c9a96e66-b738-4103-a9da-aff0be283309",
   "metadata": {
    "execution": {
     "iopub.execute_input": "2023-11-02T05:51:58.997067Z",
     "iopub.status.busy": "2023-11-02T05:51:58.996186Z",
     "iopub.status.idle": "2023-11-02T05:51:59.004660Z",
     "shell.execute_reply": "2023-11-02T05:51:59.003883Z",
     "shell.execute_reply.started": "2023-11-02T05:51:58.997012Z"
    },
    "tags": []
   },
   "outputs": [
    {
     "data": {
      "text/plain": [
       "AnnData object with n_obs × n_vars = 274346 × 2000\n",
       "    obs: 'age', 'age_range', 'anatomical_region', 'anatomical_region_detailed', 'batch', 'dataset', 'disease', 'donor', 'ethnicity', 'ethnicity_mixed', 'last_author/PI', 'lung_vs_nasal', 'original_celltype_ann', 'pack_years', 'sample', 'sample_alias', 'sample_type', 'sampling_method', 'sex', 'smoking', 'total_counts', 'log10_total_counts', 'n_genes_detected', 'mito_frac', 'ribo_frac', 'compl', 'ann_level_1', 'ann_level_2', 'ann_level_3', 'ann_level_4', 'ann_level_5', 'ann_highest_res', 'ann_new', 'subject_type', 'study', 'study2', 'celltype', 'condition', 'cellnames', 'cluster', 'stage', 'ID', 'sample_new', 'chemistry', 'data_type', 'dpt_pseudotime', 'final_annotation', 'mt_frac', 'n_counts', 'n_genes', 'sample_ID', 'size_factors', 'species', 'tissue', '_scvi_batch', '_scvi_labels'\n",
       "    uns: '_scvi_manager_uuid', '_scvi_uuid', 'celltype_colors', 'neighbors', 'study_colors', 'umap'\n",
       "    obsm: 'X_scANVI', 'X_scANVI_MDE', 'X_scVI', 'X_umap'\n",
       "    obsp: 'connectivities', 'distances'"
      ]
     },
     "execution_count": 70,
     "metadata": {},
     "output_type": "execute_result"
    }
   ],
   "source": [
    "adata_all"
   ]
  },
  {
   "cell_type": "code",
   "execution_count": 72,
   "id": "7f1eabd3-2569-4782-92fb-ca3883171fd3",
   "metadata": {
    "execution": {
     "iopub.execute_input": "2023-11-02T05:52:43.439654Z",
     "iopub.status.busy": "2023-11-02T05:52:43.438851Z",
     "iopub.status.idle": "2023-11-02T05:52:51.085314Z",
     "shell.execute_reply": "2023-11-02T05:52:51.084358Z",
     "shell.execute_reply.started": "2023-11-02T05:52:43.439591Z"
    },
    "tags": []
   },
   "outputs": [],
   "source": [
    "adata_merged = sc.read_h5ad(\"/nfs/public/cell_gpt_data/Intergation_COVID//Results/merged_result.h5ad\")\n",
    "adata_harmony = sc.read_h5ad(\"/nfs/public/cell_gpt_data/Intergation_COVID//Results/harmony.h5ad\")\n",
    "# adata_scanorama = sc.read_h5ad(\"/nfs/public/cell_gpt_data/Intergation_COVID//Results/scanorama_result.h5ad\")\n",
    "adata_bbknn = sc.read(\"/nfs/public/cell_gpt_data/Intergation_COVID//Results/BBKNN_result.h5ad\")"
   ]
  },
  {
   "cell_type": "code",
   "execution_count": 74,
   "id": "9e513b3f-ffc7-4960-891e-3a46a1ab10d2",
   "metadata": {
    "execution": {
     "iopub.execute_input": "2023-11-02T05:53:08.448869Z",
     "iopub.status.busy": "2023-11-02T05:53:08.447984Z",
     "iopub.status.idle": "2023-11-02T05:53:08.454797Z",
     "shell.execute_reply": "2023-11-02T05:53:08.453952Z",
     "shell.execute_reply.started": "2023-11-02T05:53:08.448821Z"
    },
    "tags": []
   },
   "outputs": [],
   "source": [
    "adata_all.obsm['scVI'] = adata_all.obsm['X_scVI']\n",
    "adata_all.obsm['scANVI'] = adata_all.obsm['X_scANVI']\n",
    "adata_all.obsm['Seurat'] = adata_seurat.obsm['X_pca']\n",
    "adata_all.obsm['FastMNN'] = adata_fastmnn.obsm['X_pca']\n",
    "# adata_all.obsm['scanorama'] = adata_scanorama.obsm['X_scanorama']\n",
    "adata_all.obsm['harmony'] = adata_harmony.obsm['X_pca_harmony']\n",
    "adata_all.obsm['umap_BBKNN'] = adata_bbknn.obsm['X_umap']\n",
    "adata_all.obsm['raw'] = adata_merged.obsm['X_pca']"
   ]
  },
  {
   "cell_type": "code",
   "execution_count": 75,
   "id": "be0043bd-5d7b-45a5-aa26-54c9cfaf05ed",
   "metadata": {
    "execution": {
     "iopub.execute_input": "2023-11-02T05:53:11.740722Z",
     "iopub.status.busy": "2023-11-02T05:53:11.739709Z",
     "iopub.status.idle": "2023-11-02T05:53:11.746835Z",
     "shell.execute_reply": "2023-11-02T05:53:11.745756Z",
     "shell.execute_reply.started": "2023-11-02T05:53:11.740666Z"
    },
    "tags": []
   },
   "outputs": [],
   "source": [
    "del adata_all.obsm['X_scANVI']\n",
    "del adata_all.obsm['X_scANVI_MDE']\n",
    "del adata_all.obsm['X_scVI']\n",
    "del adata_all.obsm['X_umap']"
   ]
  },
  {
   "cell_type": "code",
   "execution_count": 76,
   "id": "1f30efcc-061b-469e-bddf-b410ec09b391",
   "metadata": {
    "execution": {
     "iopub.execute_input": "2023-11-02T05:53:16.374933Z",
     "iopub.status.busy": "2023-11-02T05:53:16.373645Z",
     "iopub.status.idle": "2023-11-02T05:53:16.382361Z",
     "shell.execute_reply": "2023-11-02T05:53:16.381665Z",
     "shell.execute_reply.started": "2023-11-02T05:53:16.374876Z"
    },
    "tags": []
   },
   "outputs": [
    {
     "data": {
      "text/plain": [
       "AnnData object with n_obs × n_vars = 274346 × 2000\n",
       "    obs: 'age', 'age_range', 'anatomical_region', 'anatomical_region_detailed', 'batch', 'dataset', 'disease', 'donor', 'ethnicity', 'ethnicity_mixed', 'last_author/PI', 'lung_vs_nasal', 'original_celltype_ann', 'pack_years', 'sample', 'sample_alias', 'sample_type', 'sampling_method', 'sex', 'smoking', 'total_counts', 'log10_total_counts', 'n_genes_detected', 'mito_frac', 'ribo_frac', 'compl', 'ann_level_1', 'ann_level_2', 'ann_level_3', 'ann_level_4', 'ann_level_5', 'ann_highest_res', 'ann_new', 'subject_type', 'study', 'study2', 'celltype', 'condition', 'cellnames', 'cluster', 'stage', 'ID', 'sample_new', 'chemistry', 'data_type', 'dpt_pseudotime', 'final_annotation', 'mt_frac', 'n_counts', 'n_genes', 'sample_ID', 'size_factors', 'species', 'tissue', '_scvi_batch', '_scvi_labels'\n",
       "    uns: '_scvi_manager_uuid', '_scvi_uuid', 'celltype_colors', 'neighbors', 'study_colors', 'umap'\n",
       "    obsm: 'scVI', 'scANVI', 'Seurat', 'FastMNN', 'harmony', 'umap_BBKNN', 'raw'\n",
       "    obsp: 'connectivities', 'distances'"
      ]
     },
     "execution_count": 76,
     "metadata": {},
     "output_type": "execute_result"
    }
   ],
   "source": [
    "adata_all"
   ]
  },
  {
   "cell_type": "code",
   "execution_count": 79,
   "id": "fad159cc-892e-4100-96e9-fab54783a295",
   "metadata": {
    "execution": {
     "iopub.execute_input": "2023-11-02T05:53:51.465988Z",
     "iopub.status.busy": "2023-11-02T05:53:51.465030Z",
     "iopub.status.idle": "2023-11-02T05:53:59.393264Z",
     "shell.execute_reply": "2023-11-02T05:53:59.392497Z",
     "shell.execute_reply.started": "2023-11-02T05:53:51.465937Z"
    },
    "tags": []
   },
   "outputs": [],
   "source": [
    "adata_all.write_h5ad(\"/nfs/public/cell_gpt_data/Intergation_COVID/Results/all_methods.h5ad\")"
   ]
  },
  {
   "cell_type": "code",
   "execution_count": null,
   "id": "c0bbec87-fe60-4d59-8935-88758338dc29",
   "metadata": {},
   "outputs": [],
   "source": []
  },
  {
   "cell_type": "code",
   "execution_count": null,
   "id": "1f177b21-2670-4f3c-975c-3f8d6b2e22a8",
   "metadata": {
    "tags": []
   },
   "outputs": [],
   "source": [
    "adata_all = sc.read_h5ad(\"/nfs/public/cell_gpt_data/Intergation_COVID/Results/all_methods.h5ad\")"
   ]
  },
  {
   "cell_type": "code",
   "execution_count": 86,
   "id": "6668e88f-e48d-4846-982b-315eaf46033e",
   "metadata": {
    "execution": {
     "iopub.execute_input": "2023-11-02T07:15:08.754988Z",
     "iopub.status.busy": "2023-11-02T07:15:08.753851Z",
     "iopub.status.idle": "2023-11-02T07:15:17.461022Z",
     "shell.execute_reply": "2023-11-02T07:15:17.460502Z",
     "shell.execute_reply.started": "2023-11-02T07:15:08.754928Z"
    },
    "tags": []
   },
   "outputs": [],
   "source": [
    "adata_scMuLan = sc.read_h5ad(\"/nfs/public/cell_gpt_data/Intergation_COVID/Results/scMulan_only.h5ad\")\n",
    "adata_scMuLan = adata_scMuLan[adata_all.obs.index,:]"
   ]
  },
  {
   "cell_type": "code",
   "execution_count": null,
   "id": "a4988571-9d30-4ef3-8930-852c9e5e5cc7",
   "metadata": {
    "execution": {
     "iopub.execute_input": "2023-11-02T07:15:53.999519Z",
     "iopub.status.busy": "2023-11-02T07:15:53.998739Z",
     "iopub.status.idle": "2023-11-02T07:15:54.029218Z",
     "shell.execute_reply": "2023-11-02T07:15:54.028529Z",
     "shell.execute_reply.started": "2023-11-02T07:15:53.999462Z"
    },
    "tags": []
   },
   "outputs": [],
   "source": [
    "adata_all.obsm['scMuLan'] = adata_scMuLan.obsm['scMuLan']\n",
    "adata_all.obsm['scMuLan_awared'] = adata_scMuLan.obsm['scMuLan_awared']"
   ]
  },
  {
   "cell_type": "code",
   "execution_count": 89,
   "id": "32b269f0-3979-4ce4-8849-863096955659",
   "metadata": {
    "execution": {
     "iopub.execute_input": "2023-11-02T07:15:59.463647Z",
     "iopub.status.busy": "2023-11-02T07:15:59.462838Z",
     "iopub.status.idle": "2023-11-02T07:16:08.351965Z",
     "shell.execute_reply": "2023-11-02T07:16:08.350874Z",
     "shell.execute_reply.started": "2023-11-02T07:15:59.463568Z"
    },
    "tags": []
   },
   "outputs": [],
   "source": [
    "adata_all.write_h5ad(\"/nfs/public/cell_gpt_data/Intergation_COVID//Results/all_methods.h5ad\")"
   ]
  },
  {
   "cell_type": "code",
   "execution_count": null,
   "id": "dd3a4380-080b-4aef-9f58-2723e80967a8",
   "metadata": {},
   "outputs": [],
   "source": []
  },
  {
   "cell_type": "code",
   "execution_count": 6,
   "id": "57c55404-e1d6-479a-80a8-9a58b3b56b85",
   "metadata": {
    "execution": {
     "iopub.execute_input": "2023-11-03T02:45:06.172109Z",
     "iopub.status.busy": "2023-11-03T02:45:06.171193Z",
     "iopub.status.idle": "2023-11-03T02:45:15.211822Z",
     "shell.execute_reply": "2023-11-03T02:45:15.210115Z",
     "shell.execute_reply.started": "2023-11-03T02:45:06.172045Z"
    },
    "tags": []
   },
   "outputs": [],
   "source": [
    "adata_all = sc.read_h5ad(\"/nfs/public/cell_gpt_data/Intergation_COVID/Results/all_methods.h5ad\")"
   ]
  },
  {
   "cell_type": "code",
   "execution_count": 7,
   "id": "79e195ef-ec51-4060-8831-466a5d83dbe2",
   "metadata": {
    "execution": {
     "iopub.execute_input": "2023-11-03T02:45:15.214450Z",
     "iopub.status.busy": "2023-11-03T02:45:15.214156Z",
     "iopub.status.idle": "2023-11-03T02:45:15.224194Z",
     "shell.execute_reply": "2023-11-03T02:45:15.223589Z",
     "shell.execute_reply.started": "2023-11-03T02:45:15.214425Z"
    },
    "tags": []
   },
   "outputs": [
    {
     "data": {
      "text/plain": [
       "AnnData object with n_obs × n_vars = 274346 × 2000\n",
       "    obs: 'age', 'age_range', 'anatomical_region', 'anatomical_region_detailed', 'batch', 'dataset', 'disease', 'donor', 'ethnicity', 'ethnicity_mixed', 'last_author/PI', 'lung_vs_nasal', 'original_celltype_ann', 'pack_years', 'sample', 'sample_alias', 'sample_type', 'sampling_method', 'sex', 'smoking', 'total_counts', 'log10_total_counts', 'n_genes_detected', 'mito_frac', 'ribo_frac', 'compl', 'ann_level_1', 'ann_level_2', 'ann_level_3', 'ann_level_4', 'ann_level_5', 'ann_highest_res', 'ann_new', 'subject_type', 'study', 'study2', 'celltype', 'condition', 'cellnames', 'cluster', 'stage', 'ID', 'sample_new', 'chemistry', 'data_type', 'dpt_pseudotime', 'final_annotation', 'mt_frac', 'n_counts', 'n_genes', 'sample_ID', 'size_factors', 'species', 'tissue', '_scvi_batch', '_scvi_labels'\n",
       "    uns: '_scvi_manager_uuid', '_scvi_uuid', 'celltype_colors', 'neighbors', 'study_colors', 'umap'\n",
       "    obsm: 'FastMNN', 'Seurat', 'harmony', 'raw', 'scANVI', 'scMuLan', 'scMuLan_awared', 'scVI', 'umap_BBKNN'\n",
       "    obsp: 'connectivities', 'distances'"
      ]
     },
     "execution_count": 7,
     "metadata": {},
     "output_type": "execute_result"
    }
   ],
   "source": [
    "adata_all"
   ]
  },
  {
   "cell_type": "code",
   "execution_count": 7,
   "id": "173343f2-f0a9-42c0-9ec3-55a5c704cbb9",
   "metadata": {
    "execution": {
     "iopub.execute_input": "2023-11-03T02:45:15.214450Z",
     "iopub.status.busy": "2023-11-03T02:45:15.214156Z",
     "iopub.status.idle": "2023-11-03T02:45:15.224194Z",
     "shell.execute_reply": "2023-11-03T02:45:15.223589Z",
     "shell.execute_reply.started": "2023-11-03T02:45:15.214425Z"
    },
    "tags": []
   },
   "outputs": [
    {
     "data": {
      "text/plain": [
       "AnnData object with n_obs × n_vars = 274346 × 2000\n",
       "    obs: 'age', 'age_range', 'anatomical_region', 'anatomical_region_detailed', 'batch', 'dataset', 'disease', 'donor', 'ethnicity', 'ethnicity_mixed', 'last_author/PI', 'lung_vs_nasal', 'original_celltype_ann', 'pack_years', 'sample', 'sample_alias', 'sample_type', 'sampling_method', 'sex', 'smoking', 'total_counts', 'log10_total_counts', 'n_genes_detected', 'mito_frac', 'ribo_frac', 'compl', 'ann_level_1', 'ann_level_2', 'ann_level_3', 'ann_level_4', 'ann_level_5', 'ann_highest_res', 'ann_new', 'subject_type', 'study', 'study2', 'celltype', 'condition', 'cellnames', 'cluster', 'stage', 'ID', 'sample_new', 'chemistry', 'data_type', 'dpt_pseudotime', 'final_annotation', 'mt_frac', 'n_counts', 'n_genes', 'sample_ID', 'size_factors', 'species', 'tissue', '_scvi_batch', '_scvi_labels'\n",
       "    uns: '_scvi_manager_uuid', '_scvi_uuid', 'celltype_colors', 'neighbors', 'study_colors', 'umap'\n",
       "    obsm: 'FastMNN', 'Seurat', 'harmony', 'raw', 'scANVI', 'scMuLan', 'scMuLan_awared', 'scVI', 'umap_BBKNN'\n",
       "    obsp: 'connectivities', 'distances'"
      ]
     },
     "execution_count": 7,
     "metadata": {},
     "output_type": "execute_result"
    }
   ],
   "source": [
    "adata_scgpt = sc.read_h5ad()"
   ]
  },
  {
   "cell_type": "code",
   "execution_count": null,
   "id": "44e59526-08b1-432b-ae2c-5a919100890a",
   "metadata": {},
   "outputs": [],
   "source": []
  },
  {
   "cell_type": "code",
   "execution_count": null,
   "id": "8409c0e9-f4d5-4910-8bcb-d0ac018c4d39",
   "metadata": {},
   "outputs": [],
   "source": []
  },
  {
   "cell_type": "code",
   "execution_count": 4,
   "id": "48e0464c-2863-4a6b-8fd9-67b764a4a008",
   "metadata": {
    "execution": {
     "iopub.execute_input": "2023-12-29T14:35:34.778479Z",
     "iopub.status.busy": "2023-12-29T14:35:34.777987Z",
     "iopub.status.idle": "2023-12-29T14:35:43.922613Z",
     "shell.execute_reply": "2023-12-29T14:35:43.921649Z",
     "shell.execute_reply.started": "2023-12-29T14:35:34.778450Z"
    },
    "tags": []
   },
   "outputs": [],
   "source": [
    "adata_all = sc.read_h5ad(\"/nfs/public/cell_gpt_data/Intergation_COVID/Results/all_methods.h5ad\")"
   ]
  },
  {
   "cell_type": "code",
   "execution_count": 5,
   "id": "c3af29b8-e4b3-4fe6-8e8d-26002ac52571",
   "metadata": {
    "execution": {
     "iopub.execute_input": "2023-12-29T14:35:43.924809Z",
     "iopub.status.busy": "2023-12-29T14:35:43.923942Z",
     "iopub.status.idle": "2023-12-29T14:36:03.264721Z",
     "shell.execute_reply": "2023-12-29T14:36:03.263761Z",
     "shell.execute_reply.started": "2023-12-29T14:35:43.924777Z"
    },
    "tags": []
   },
   "outputs": [],
   "source": [
    "df = pd.read_csv(\"/nfs/public/cell_gpt_data/Intergation_COVID/Results/Geneformer6L_COVID.csv\",index_col=0)\n",
    "adata_all.obsm['geneformer'] = np.array(df)"
   ]
  },
  {
   "cell_type": "code",
   "execution_count": 6,
   "id": "8afa1f9c-8723-4a5c-ad77-0d9390919747",
   "metadata": {
    "execution": {
     "iopub.execute_input": "2023-12-29T14:36:03.266600Z",
     "iopub.status.busy": "2023-12-29T14:36:03.266093Z",
     "iopub.status.idle": "2023-12-29T14:36:17.943048Z",
     "shell.execute_reply": "2023-12-29T14:36:17.941796Z",
     "shell.execute_reply.started": "2023-12-29T14:36:03.266570Z"
    },
    "tags": []
   },
   "outputs": [],
   "source": [
    "adata_all.write_h5ad(\"/nfs/public/cell_gpt_data/Intergation_COVID/Results/all_methods.h5ad\")"
   ]
  },
  {
   "cell_type": "code",
   "execution_count": null,
   "id": "4e7a8a6a-b6e2-478d-adc6-cdc5e472c0c6",
   "metadata": {},
   "outputs": [],
   "source": []
  },
  {
   "cell_type": "code",
   "execution_count": 7,
   "id": "f3e8a90a-6811-4822-b8db-417bf6900808",
   "metadata": {
    "collapsed": true,
    "execution": {
     "iopub.execute_input": "2023-12-29T14:37:19.074608Z",
     "iopub.status.busy": "2023-12-29T14:37:19.074211Z",
     "iopub.status.idle": "2023-12-29T14:43:38.188370Z",
     "shell.execute_reply": "2023-12-29T14:43:38.187663Z",
     "shell.execute_reply.started": "2023-12-29T14:37:19.074579Z"
    },
    "jupyter": {
     "outputs_hidden": true
    },
    "tags": []
   },
   "outputs": [
    {
     "name": "stderr",
     "output_type": "stream",
     "text": [
      "/data1/chenyx/anaconda3/envs/sc_R4_Py/lib/python3.9/site-packages/umap/distances.py:1063: NumbaDeprecationWarning: The 'nopython' keyword argument was not supplied to the 'numba.jit' decorator. The implicit default value for this argument is currently False, but it will be changed to True in Numba 0.59.0. See https://numba.readthedocs.io/en/stable/reference/deprecation.html#deprecation-of-object-mode-fall-back-behaviour-when-using-jit for details.\n",
      "  @numba.jit()\n",
      "/data1/chenyx/anaconda3/envs/sc_R4_Py/lib/python3.9/site-packages/umap/distances.py:1071: NumbaDeprecationWarning: The 'nopython' keyword argument was not supplied to the 'numba.jit' decorator. The implicit default value for this argument is currently False, but it will be changed to True in Numba 0.59.0. See https://numba.readthedocs.io/en/stable/reference/deprecation.html#deprecation-of-object-mode-fall-back-behaviour-when-using-jit for details.\n",
      "  @numba.jit()\n",
      "/data1/chenyx/anaconda3/envs/sc_R4_Py/lib/python3.9/site-packages/umap/distances.py:1086: NumbaDeprecationWarning: The 'nopython' keyword argument was not supplied to the 'numba.jit' decorator. The implicit default value for this argument is currently False, but it will be changed to True in Numba 0.59.0. See https://numba.readthedocs.io/en/stable/reference/deprecation.html#deprecation-of-object-mode-fall-back-behaviour-when-using-jit for details.\n",
      "  @numba.jit()\n",
      "/data1/chenyx/anaconda3/envs/sc_R4_Py/lib/python3.9/site-packages/umap/umap_.py:660: NumbaDeprecationWarning: The 'nopython' keyword argument was not supplied to the 'numba.jit' decorator. The implicit default value for this argument is currently False, but it will be changed to True in Numba 0.59.0. See https://numba.readthedocs.io/en/stable/reference/deprecation.html#deprecation-of-object-mode-fall-back-behaviour-when-using-jit for details.\n",
      "  @numba.jit()\n",
      "2023-12-29 22:37:29.476937: I tensorflow/core/util/util.cc:169] oneDNN custom operations are on. You may see slightly different numerical results due to floating-point round-off errors from different computation orders. To turn them off, set the environment variable `TF_ENABLE_ONEDNN_OPTS=0`.\n"
     ]
    }
   ],
   "source": [
    "sc.pp.neighbors(adata_all,use_rep=\"geneformer\")\n",
    "sc.tl.umap(adata_all)"
   ]
  },
  {
   "cell_type": "code",
   "execution_count": null,
   "id": "e21e06be-a668-4358-b3f6-787bda8777c3",
   "metadata": {
    "collapsed": true,
    "execution": {
     "iopub.execute_input": "2023-12-29T14:43:38.191632Z",
     "iopub.status.busy": "2023-12-29T14:43:38.190441Z",
     "iopub.status.idle": "2023-12-29T14:43:52.096802Z",
     "shell.execute_reply": "2023-12-29T14:43:52.095904Z",
     "shell.execute_reply.started": "2023-12-29T14:43:38.191603Z"
    },
    "jupyter": {
     "outputs_hidden": true
    },
    "tags": []
   },
   "outputs": [],
   "source": [
    "sc.set_figure_params(dpi=300)\n",
    "fig = sc.pl.umap(\n",
    "    adata_all,  color=['celltype', 'study'],return_fig=True,legend_fontsize='xx-small',ncols=1)\n",
    "fig.set_size_inches(8, 8)\n",
    "fig.savefig(\"Integration_results_COVID/geneformer.results.png\", bbox_inches='tight')"
   ]
  }
 ],
 "metadata": {
  "kernelspec": {
   "display_name": "R4_Py",
   "language": "python",
   "name": "r4_py"
  },
  "language_info": {
   "codemirror_mode": {
    "name": "ipython",
    "version": 3
   },
   "file_extension": ".py",
   "mimetype": "text/x-python",
   "name": "python",
   "nbconvert_exporter": "python",
   "pygments_lexer": "ipython3",
   "version": "3.9.12"
  }
 },
 "nbformat": 4,
 "nbformat_minor": 5
}
