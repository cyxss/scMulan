{
 "cells": [
  {
   "cell_type": "code",
   "execution_count": 1,
   "metadata": {},
   "outputs": [],
   "source": [
    "import os\n",
    "os.environ[\"CUDA_DEVICE_ORDER\"] = \"PCI_BUS_ID\"\n",
    "os.environ[\"CUDA_VISIBLE_DEVICES\"] = \"3\""
   ]
  },
  {
   "cell_type": "code",
   "execution_count": 2,
   "metadata": {},
   "outputs": [],
   "source": [
    "import torch\n",
    "import os\n",
    "from collections import Counter\n",
    "import sklearn\n",
    "import psutil\n",
    "import numpy as np\n",
    "import time\n",
    "from loguru import logger\n",
    "\n",
    "import pandas as pd\n",
    "# import scanpy as sc\n",
    "from tqdm import tqdm\n",
    "import random\n",
    "import sys\n",
    "import multiprocessing\n",
    "import anndata as ad\n",
    "import gc\n",
    "import pickle\n",
    "\n",
    "root_path = os.path.abspath('#model_folder') # model folder\n",
    "sys.path.append(os.path.abspath(root_path))\n",
    "\n",
    "\n",
    "data_root_path = '#dataset_path/' #data folder\n",
    "dataset = 'ECA_GO'\n",
    "dataPath = os.path.join(data_root_path,dataset)\n",
    "assert os.path.exists(dataPath)\n",
    "tmp_dataPath = os.path.join(dataPath,'tmp_files')"
   ]
  },
  {
   "cell_type": "code",
   "execution_count": 3,
   "metadata": {},
   "outputs": [],
   "source": [
    "from utils.hf_tokenizer import cellGenesisTokenizer"
   ]
  },
  {
   "cell_type": "code",
   "execution_count": 4,
   "metadata": {},
   "outputs": [],
   "source": [
    "meta_info = torch.load(os.path.join(dataPath,'meta_info.pt'))\n",
    "chars = meta_info['token_set']\n",
    "tokenizer = cellGenesisTokenizer(chars)\n",
    "n_express_level = 10"
   ]
  },
  {
   "cell_type": "code",
   "execution_count": 5,
   "metadata": {},
   "outputs": [],
   "source": [
    "cell_index_gene_mixed = torch.load(os.path.join(dataPath,'cell_index_gene_mixed.pt'))\n",
    "cell_index_test = cell_index_gene_mixed['test_index_after_nonamp_mix']\n",
    "cell_train_index_after_amp_mix = cell_index_gene_mixed['train_index_after_amp_mix']\n",
    "h5 = pd.HDFStore(os.path.join(tmp_dataPath,'cellhvg.h5'), 'r') #read original data\n",
    "meta_data = pd.read_csv(os.path.join(dataPath,'meta_data.csv'),index_col=0,low_memory=False) # read corresponding metadata"
   ]
  },
  {
   "cell_type": "code",
   "execution_count": 15,
   "metadata": {},
   "outputs": [],
   "source": [
    "task_pool = {'porg':['organ','region'],'pct':['MCT','cell_type']}\n",
    "task_spt = {'porg':'<SPToken3>','pct':'<PCT>'}"
   ]
  },
  {
   "cell_type": "code",
   "execution_count": 6,
   "metadata": {},
   "outputs": [],
   "source": [
    "def prepare_cell_generation_prompt_by_idx_for_test(idx, h5, meta_data, n_express_level,task_pool, task_seed = None):\n",
    "    cellhvg = h5.select('data', where=f\"index={repr(idx)}\")\n",
    "    genes_series = cellhvg.loc[idx]\n",
    "    expressed_genes = genes_series[genes_series > 0].index.tolist()\n",
    "#     random_sys.shuffle(expressed_genes)\n",
    "    if task_seed is None:\n",
    "        task_seed = torch.randint(0,len(task_pool),(1,)).item()\n",
    "    task_cols = list(task_pool.values())[task_seed]\n",
    "    metadata_series = meta_data.loc[idx, task_cols]\n",
    "    metadata_list = metadata_series.tolist()\n",
    "    expr_values = np.array(cellhvg.loc[idx, expressed_genes])\n",
    "    max_expr = np.max(expr_values)\n",
    "    bins = np.linspace(0, max_expr, n_express_level+1)\n",
    "    binned_expr = np.digitize(expr_values, bins, right=True) # - 1\n",
    "    binned_expr = np.append(binned_expr,[0]*(len(metadata_list)+1))\n",
    "    return expressed_genes, metadata_list, binned_expr, task_seed\n",
    "\n",
    "def process_data_for_test(idx,h5,meta_data,task_pool):\n",
    "    expressed_genes, metadata_list, binned_expr, task_seed = prepare_cell_generation_prompt_by_idx_for_test(idx, h5, meta_data, \\\n",
    "                                                                             n_express_level, task_pool, task_seed = 1)\n",
    "\n",
    "    prefix = expressed_genes + [task_spt[list(task_pool.keys())[task_seed]]] \n",
    "    ec_prefix = tokenizer.encode(prefix)\n",
    "    suffix = metadata_list\n",
    "    ec_suffix = tokenizer.encode(suffix)\n",
    "    prefix_len = len(ec_prefix) - 1 \n",
    "    data_len = len(ec_prefix) + len(ec_suffix)\n",
    "\n",
    "    return (ec_prefix + ec_suffix, prefix_len, data_len, binned_expr)"
   ]
  },
  {
   "cell_type": "code",
   "execution_count": 7,
   "metadata": {},
   "outputs": [],
   "source": [
    "from model.model import GPTConfig, cellGPTModel\n",
    "import torch.nn.functional as F"
   ]
  },
  {
   "cell_type": "code",
   "execution_count": 8,
   "metadata": {},
   "outputs": [],
   "source": [
    "from tools import eccosimple_ele"
   ]
  },
  {
   "cell_type": "code",
   "execution_count": 9,
   "metadata": {},
   "outputs": [],
   "source": [
    "ckp_path = '/nfs/public/cell_gpt_data/dataHub/datasets/datasets/ECA_GO/model_hub/ckpt245000.pt'"
   ]
  },
  {
   "cell_type": "code",
   "execution_count": 10,
   "metadata": {},
   "outputs": [
    {
     "name": "stderr",
     "output_type": "stream",
     "text": [
      "\u001b[32m2023-11-04 01:00:17.316\u001b[0m | \u001b[1mINFO    \u001b[0m | \u001b[36mmodel.model\u001b[0m:\u001b[36m__init__\u001b[0m:\u001b[36m222\u001b[0m - \u001b[1mCurrent ele mode is: 1\u001b[0m\n",
      "\u001b[32m2023-11-04 01:00:23.284\u001b[0m | \u001b[1mINFO    \u001b[0m | \u001b[36mmodel.model\u001b[0m:\u001b[36m__init__\u001b[0m:\u001b[36m261\u001b[0m - \u001b[1mnumber of parameters: 368.80M\u001b[0m\n"
     ]
    },
    {
     "name": "stdout",
     "output_type": "stream",
     "text": [
      "Using GPU\n"
     ]
    }
   ],
   "source": [
    "lm2 = eccosimple_ele.from_pretrained(ckp_path=ckp_path, meta_info= meta_info,verbose=False)"
   ]
  },
  {
   "cell_type": "code",
   "execution_count": 11,
   "metadata": {},
   "outputs": [],
   "source": [
    "def get_top_k(scores, k=10):\n",
    "    indices = np.argsort(scores)\n",
    "    top_k_indices = indices[::-1][:k]\n",
    "    return top_k_indices"
   ]
  },
  {
   "cell_type": "markdown",
   "metadata": {},
   "source": [
    "## Find cell type specific markers in Heart"
   ]
  },
  {
   "cell_type": "code",
   "execution_count": 12,
   "metadata": {},
   "outputs": [],
   "source": [
    "meta_sub = meta_data[(meta_data['organ'] == 'Heart')]"
   ]
  },
  {
   "cell_type": "code",
   "execution_count": 24,
   "metadata": {},
   "outputs": [
    {
     "name": "stderr",
     "output_type": "stream",
     "text": [
      "100%|████████████████████████████████████████████████████████████████████████████████████████████████████████████████████████████████████████████████████████████████████████████████| 500/500 [02:15<00:00,  3.69it/s]\n",
      "100%|████████████████████████████████████████████████████████████████████████████████████████████████████████████████████████████████████████████████████████████████████████████████| 500/500 [01:37<00:00,  5.12it/s]\n",
      "100%|████████████████████████████████████████████████████████████████████████████████████████████████████████████████████████████████████████████████████████████████████████████████| 500/500 [01:35<00:00,  5.26it/s]\n",
      "100%|████████████████████████████████████████████████████████████████████████████████████████████████████████████████████████████████████████████████████████████████████████████████| 500/500 [01:35<00:00,  5.25it/s]\n",
      "100%|████████████████████████████████████████████████████████████████████████████████████████████████████████████████████████████████████████████████████████████████████████████████| 500/500 [01:42<00:00,  4.89it/s]\n",
      "100%|████████████████████████████████████████████████████████████████████████████████████████████████████████████████████████████████████████████████████████████████████████████████| 500/500 [01:35<00:00,  5.24it/s]\n",
      "100%|████████████████████████████████████████████████████████████████████████████████████████████████████████████████████████████████████████████████████████████████████████████████| 500/500 [01:43<00:00,  4.82it/s]\n",
      "100%|████████████████████████████████████████████████████████████████████████████████████████████████████████████████████████████████████████████████████████████████████████████████| 500/500 [01:41<00:00,  4.94it/s]\n",
      "100%|████████████████████████████████████████████████████████████████████████████████████████████████████████████████████████████████████████████████████████████████████████████████| 500/500 [01:19<00:00,  6.29it/s]\n",
      "100%|████████████████████████████████████████████████████████████████████████████████████████████████████████████████████████████████████████████████████████████████████████████████| 500/500 [01:40<00:00,  4.95it/s]\n",
      "100%|████████████████████████████████████████████████████████████████████████████████████████████████████████████████████████████████████████████████████████████████████████████████| 500/500 [01:39<00:00,  5.02it/s]\n",
      "100%|████████████████████████████████████████████████████████████████████████████████████████████████████████████████████████████████████████████████████████████████████████████████| 500/500 [01:38<00:00,  5.10it/s]\n",
      "100%|████████████████████████████████████████████████████████████████████████████████████████████████████████████████████████████████████████████████████████████████████████████████| 500/500 [01:28<00:00,  5.65it/s]\n",
      "100%|████████████████████████████████████████████████████████████████████████████████████████████████████████████████████████████████████████████████████████████████████████████████| 500/500 [01:39<00:00,  5.05it/s]\n",
      "100%|████████████████████████████████████████████████████████████████████████████████████████████████████████████████████████████████████████████████████████████████████████████████| 500/500 [01:41<00:00,  4.94it/s]\n",
      "100%|████████████████████████████████████████████████████████████████████████████████████████████████████████████████████████████████████████████████████████████████████████████████| 500/500 [05:56<00:00,  1.40it/s]\n",
      "100%|████████████████████████████████████████████████████████████████████████████████████████████████████████████████████████████████████████████████████████████████████████████████| 500/500 [01:37<00:00,  5.13it/s]\n",
      "100%|████████████████████████████████████████████████████████████████████████████████████████████████████████████████████████████████████████████████████████████████████████████████| 500/500 [01:41<00:00,  4.94it/s]\n",
      "100%|████████████████████████████████████████████████████████████████████████████████████████████████████████████████████████████████████████████████████████████████████████████████| 500/500 [01:38<00:00,  5.07it/s]\n",
      "100%|████████████████████████████████████████████████████████████████████████████████████████████████████████████████████████████████████████████████████████████████████████████████| 500/500 [01:29<00:00,  5.59it/s]\n",
      "100%|████████████████████████████████████████████████████████████████████████████████████████████████████████████████████████████████████████████████████████████████████████████████| 500/500 [01:43<00:00,  4.85it/s]\n",
      "100%|████████████████████████████████████████████████████████████████████████████████████████████████████████████████████████████████████████████████████████████████████████████████| 500/500 [02:11<00:00,  3.79it/s]\n",
      "100%|████████████████████████████████████████████████████████████████████████████████████████████████████████████████████████████████████████████████████████████████████████████████| 500/500 [01:32<00:00,  5.38it/s]\n",
      "100%|████████████████████████████████████████████████████████████████████████████████████████████████████████████████████████████████████████████████████████████████████████████████| 500/500 [01:19<00:00,  6.26it/s]\n",
      "100%|████████████████████████████████████████████████████████████████████████████████████████████████████████████████████████████████████████████████████████████████████████████████| 500/500 [01:34<00:00,  5.27it/s]\n"
     ]
    }
   ],
   "source": [
    "labels_ = []\n",
    "cts_ = []\n",
    "for ct in meta_sub.cell_type.unique():\n",
    "    meta_indexs = meta_data[(meta_data['organ'] == 'Heart') & (meta_data['cell_type'] == ct)].index\n",
    "    meta_sample_index = random.sample(meta_indexs.tolist(),500)\n",
    "    n_corr=0\n",
    "    marker_set = []\n",
    "    for idx in tqdm(meta_sample_index):\n",
    "        prefix_sufix, prefix_len, _, expr = process_data_for_test(idx,h5,meta_data,task_pool)\n",
    "        prompt_ele = torch.tensor(expr[:prefix_len + 1]).unsqueeze(0)\n",
    "        output_ = lm2.generate(tokenizer.decode(prefix_sufix[:prefix_len + 1]),\n",
    "                expr_level=prompt_ele,\n",
    "    #             ignore_Idx=anno.ignore_idx,\n",
    "                generate=1560,\n",
    "                top_k=1,\n",
    "                attribution=['grad_x_input'])\n",
    "        prefix_sufix = np.array(prefix_sufix)\n",
    "        pred_ct_idx = int(output_.token_ids.cpu()[0][-3])\n",
    "        target_age_idx = tokenizer.encode([ct])[0]\n",
    "    #     print(tokenizer.decode([pred_ct_idx]))\n",
    "        if target_age_idx == pred_ct_idx:\n",
    "            n_corr+=1\n",
    "            attri_scores = output_.attribution['grad_x_input'][0][:-1]\n",
    "            gene_names = tokenizer.convert_ids_to_tokens(prefix_sufix[get_top_k(attri_scores,k=5)])\n",
    "            marker_set.append(gene_names)\n",
    "    gs_ = []\n",
    "    for gs in marker_set:\n",
    "        gs_+=gs\n",
    "    counter = Counter(gs_)\n",
    "    if len(gs_)!=0:\n",
    "        sorted_items = sorted(counter.items(), key=lambda x: x[1], reverse=True)\n",
    "        labels, values = zip(*sorted_items[:10])\n",
    "        cts_.append(ct)\n",
    "        labels_.append(labels)"
   ]
  },
  {
   "cell_type": "code",
   "execution_count": 26,
   "metadata": {},
   "outputs": [],
   "source": [
    "marker_dict = {}\n",
    "for ct, lab in zip(cts_,labels_):\n",
    "    marker_dict[ct] = lab"
   ]
  },
  {
   "cell_type": "code",
   "execution_count": 27,
   "metadata": {},
   "outputs": [],
   "source": [
    "torch.save(marker_dict, './markerdict.pt')"
   ]
  }
 ],
 "metadata": {
  "kernelspec": {
   "display_name": "cellgpt",
   "language": "python",
   "name": "cellgpt"
  },
  "language_info": {
   "codemirror_mode": {
    "name": "ipython",
    "version": 3
   },
   "file_extension": ".py",
   "mimetype": "text/x-python",
   "name": "python",
   "nbconvert_exporter": "python",
   "pygments_lexer": "ipython3",
   "version": "3.9.16"
  },
  "toc": {
   "base_numbering": 1,
   "nav_menu": {},
   "number_sections": true,
   "sideBar": true,
   "skip_h1_title": false,
   "title_cell": "Table of Contents",
   "title_sidebar": "Contents",
   "toc_cell": false,
   "toc_position": {},
   "toc_section_display": true,
   "toc_window_display": true
  }
 },
 "nbformat": 4,
 "nbformat_minor": 4
}
